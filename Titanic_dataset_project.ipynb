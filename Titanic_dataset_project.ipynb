{
 "cells": [
  {
   "cell_type": "code",
   "execution_count": 130,
   "metadata": {},
   "outputs": [],
   "source": [
    "import pandas as pd"
   ]
  },
  {
   "cell_type": "code",
   "execution_count": 131,
   "metadata": {},
   "outputs": [
    {
     "data": {
      "text/html": [
       "<div>\n",
       "<style scoped>\n",
       "    .dataframe tbody tr th:only-of-type {\n",
       "        vertical-align: middle;\n",
       "    }\n",
       "\n",
       "    .dataframe tbody tr th {\n",
       "        vertical-align: top;\n",
       "    }\n",
       "\n",
       "    .dataframe thead th {\n",
       "        text-align: right;\n",
       "    }\n",
       "</style>\n",
       "<table border=\"1\" class=\"dataframe\">\n",
       "  <thead>\n",
       "    <tr style=\"text-align: right;\">\n",
       "      <th></th>\n",
       "      <th>PassengerId</th>\n",
       "      <th>Survived</th>\n",
       "      <th>Pclass</th>\n",
       "      <th>Name</th>\n",
       "      <th>Sex</th>\n",
       "      <th>Age</th>\n",
       "      <th>SibSp</th>\n",
       "      <th>Parch</th>\n",
       "      <th>Ticket</th>\n",
       "      <th>Fare</th>\n",
       "      <th>Cabin</th>\n",
       "      <th>Embarked</th>\n",
       "    </tr>\n",
       "  </thead>\n",
       "  <tbody>\n",
       "    <tr>\n",
       "      <th>0</th>\n",
       "      <td>1</td>\n",
       "      <td>0</td>\n",
       "      <td>3</td>\n",
       "      <td>Braund, Mr. Owen Harris</td>\n",
       "      <td>male</td>\n",
       "      <td>22.0</td>\n",
       "      <td>1</td>\n",
       "      <td>0</td>\n",
       "      <td>A/5 21171</td>\n",
       "      <td>7.2500</td>\n",
       "      <td>NaN</td>\n",
       "      <td>S</td>\n",
       "    </tr>\n",
       "    <tr>\n",
       "      <th>1</th>\n",
       "      <td>2</td>\n",
       "      <td>1</td>\n",
       "      <td>1</td>\n",
       "      <td>Cumings, Mrs. John Bradley (Florence Briggs Th...</td>\n",
       "      <td>female</td>\n",
       "      <td>38.0</td>\n",
       "      <td>1</td>\n",
       "      <td>0</td>\n",
       "      <td>PC 17599</td>\n",
       "      <td>71.2833</td>\n",
       "      <td>C85</td>\n",
       "      <td>C</td>\n",
       "    </tr>\n",
       "    <tr>\n",
       "      <th>2</th>\n",
       "      <td>3</td>\n",
       "      <td>1</td>\n",
       "      <td>3</td>\n",
       "      <td>Heikkinen, Miss. Laina</td>\n",
       "      <td>female</td>\n",
       "      <td>26.0</td>\n",
       "      <td>0</td>\n",
       "      <td>0</td>\n",
       "      <td>STON/O2. 3101282</td>\n",
       "      <td>7.9250</td>\n",
       "      <td>NaN</td>\n",
       "      <td>S</td>\n",
       "    </tr>\n",
       "    <tr>\n",
       "      <th>3</th>\n",
       "      <td>4</td>\n",
       "      <td>1</td>\n",
       "      <td>1</td>\n",
       "      <td>Futrelle, Mrs. Jacques Heath (Lily May Peel)</td>\n",
       "      <td>female</td>\n",
       "      <td>35.0</td>\n",
       "      <td>1</td>\n",
       "      <td>0</td>\n",
       "      <td>113803</td>\n",
       "      <td>53.1000</td>\n",
       "      <td>C123</td>\n",
       "      <td>S</td>\n",
       "    </tr>\n",
       "    <tr>\n",
       "      <th>4</th>\n",
       "      <td>5</td>\n",
       "      <td>0</td>\n",
       "      <td>3</td>\n",
       "      <td>Allen, Mr. William Henry</td>\n",
       "      <td>male</td>\n",
       "      <td>35.0</td>\n",
       "      <td>0</td>\n",
       "      <td>0</td>\n",
       "      <td>373450</td>\n",
       "      <td>8.0500</td>\n",
       "      <td>NaN</td>\n",
       "      <td>S</td>\n",
       "    </tr>\n",
       "    <tr>\n",
       "      <th>...</th>\n",
       "      <td>...</td>\n",
       "      <td>...</td>\n",
       "      <td>...</td>\n",
       "      <td>...</td>\n",
       "      <td>...</td>\n",
       "      <td>...</td>\n",
       "      <td>...</td>\n",
       "      <td>...</td>\n",
       "      <td>...</td>\n",
       "      <td>...</td>\n",
       "      <td>...</td>\n",
       "      <td>...</td>\n",
       "    </tr>\n",
       "    <tr>\n",
       "      <th>886</th>\n",
       "      <td>887</td>\n",
       "      <td>0</td>\n",
       "      <td>2</td>\n",
       "      <td>Montvila, Rev. Juozas</td>\n",
       "      <td>male</td>\n",
       "      <td>27.0</td>\n",
       "      <td>0</td>\n",
       "      <td>0</td>\n",
       "      <td>211536</td>\n",
       "      <td>13.0000</td>\n",
       "      <td>NaN</td>\n",
       "      <td>S</td>\n",
       "    </tr>\n",
       "    <tr>\n",
       "      <th>887</th>\n",
       "      <td>888</td>\n",
       "      <td>1</td>\n",
       "      <td>1</td>\n",
       "      <td>Graham, Miss. Margaret Edith</td>\n",
       "      <td>female</td>\n",
       "      <td>19.0</td>\n",
       "      <td>0</td>\n",
       "      <td>0</td>\n",
       "      <td>112053</td>\n",
       "      <td>30.0000</td>\n",
       "      <td>B42</td>\n",
       "      <td>S</td>\n",
       "    </tr>\n",
       "    <tr>\n",
       "      <th>888</th>\n",
       "      <td>889</td>\n",
       "      <td>0</td>\n",
       "      <td>3</td>\n",
       "      <td>Johnston, Miss. Catherine Helen \"Carrie\"</td>\n",
       "      <td>female</td>\n",
       "      <td>NaN</td>\n",
       "      <td>1</td>\n",
       "      <td>2</td>\n",
       "      <td>W./C. 6607</td>\n",
       "      <td>23.4500</td>\n",
       "      <td>NaN</td>\n",
       "      <td>S</td>\n",
       "    </tr>\n",
       "    <tr>\n",
       "      <th>889</th>\n",
       "      <td>890</td>\n",
       "      <td>1</td>\n",
       "      <td>1</td>\n",
       "      <td>Behr, Mr. Karl Howell</td>\n",
       "      <td>male</td>\n",
       "      <td>26.0</td>\n",
       "      <td>0</td>\n",
       "      <td>0</td>\n",
       "      <td>111369</td>\n",
       "      <td>30.0000</td>\n",
       "      <td>C148</td>\n",
       "      <td>C</td>\n",
       "    </tr>\n",
       "    <tr>\n",
       "      <th>890</th>\n",
       "      <td>891</td>\n",
       "      <td>0</td>\n",
       "      <td>3</td>\n",
       "      <td>Dooley, Mr. Patrick</td>\n",
       "      <td>male</td>\n",
       "      <td>32.0</td>\n",
       "      <td>0</td>\n",
       "      <td>0</td>\n",
       "      <td>370376</td>\n",
       "      <td>7.7500</td>\n",
       "      <td>NaN</td>\n",
       "      <td>Q</td>\n",
       "    </tr>\n",
       "  </tbody>\n",
       "</table>\n",
       "<p>891 rows × 12 columns</p>\n",
       "</div>"
      ],
      "text/plain": [
       "     PassengerId  Survived  Pclass  \\\n",
       "0              1         0       3   \n",
       "1              2         1       1   \n",
       "2              3         1       3   \n",
       "3              4         1       1   \n",
       "4              5         0       3   \n",
       "..           ...       ...     ...   \n",
       "886          887         0       2   \n",
       "887          888         1       1   \n",
       "888          889         0       3   \n",
       "889          890         1       1   \n",
       "890          891         0       3   \n",
       "\n",
       "                                                  Name     Sex   Age  SibSp  \\\n",
       "0                              Braund, Mr. Owen Harris    male  22.0      1   \n",
       "1    Cumings, Mrs. John Bradley (Florence Briggs Th...  female  38.0      1   \n",
       "2                               Heikkinen, Miss. Laina  female  26.0      0   \n",
       "3         Futrelle, Mrs. Jacques Heath (Lily May Peel)  female  35.0      1   \n",
       "4                             Allen, Mr. William Henry    male  35.0      0   \n",
       "..                                                 ...     ...   ...    ...   \n",
       "886                              Montvila, Rev. Juozas    male  27.0      0   \n",
       "887                       Graham, Miss. Margaret Edith  female  19.0      0   \n",
       "888           Johnston, Miss. Catherine Helen \"Carrie\"  female   NaN      1   \n",
       "889                              Behr, Mr. Karl Howell    male  26.0      0   \n",
       "890                                Dooley, Mr. Patrick    male  32.0      0   \n",
       "\n",
       "     Parch            Ticket     Fare Cabin Embarked  \n",
       "0        0         A/5 21171   7.2500   NaN        S  \n",
       "1        0          PC 17599  71.2833   C85        C  \n",
       "2        0  STON/O2. 3101282   7.9250   NaN        S  \n",
       "3        0            113803  53.1000  C123        S  \n",
       "4        0            373450   8.0500   NaN        S  \n",
       "..     ...               ...      ...   ...      ...  \n",
       "886      0            211536  13.0000   NaN        S  \n",
       "887      0            112053  30.0000   B42        S  \n",
       "888      2        W./C. 6607  23.4500   NaN        S  \n",
       "889      0            111369  30.0000  C148        C  \n",
       "890      0            370376   7.7500   NaN        Q  \n",
       "\n",
       "[891 rows x 12 columns]"
      ]
     },
     "execution_count": 131,
     "metadata": {},
     "output_type": "execute_result"
    }
   ],
   "source": [
    "df=pd.read_csv('Titanic.csv')\n",
    "df"
   ]
  },
  {
   "cell_type": "code",
   "execution_count": 132,
   "metadata": {},
   "outputs": [
    {
     "data": {
      "text/plain": [
       "Index(['PassengerId', 'Survived', 'Pclass', 'Name', 'Sex', 'Age', 'SibSp',\n",
       "       'Parch', 'Ticket', 'Fare', 'Cabin', 'Embarked'],\n",
       "      dtype='object')"
      ]
     },
     "execution_count": 132,
     "metadata": {},
     "output_type": "execute_result"
    }
   ],
   "source": [
    "df.keys()"
   ]
  },
  {
   "cell_type": "code",
   "execution_count": null,
   "metadata": {},
   "outputs": [],
   "source": []
  },
  {
   "cell_type": "code",
   "execution_count": 133,
   "metadata": {},
   "outputs": [
    {
     "data": {
      "text/plain": [
       "array([[1, 0, 3, ..., 7.25, nan, 'S'],\n",
       "       [2, 1, 1, ..., 71.2833, 'C85', 'C'],\n",
       "       [3, 1, 3, ..., 7.925, nan, 'S'],\n",
       "       ...,\n",
       "       [889, 0, 3, ..., 23.45, nan, 'S'],\n",
       "       [890, 1, 1, ..., 30.0, 'C148', 'C'],\n",
       "       [891, 0, 3, ..., 7.75, nan, 'Q']], dtype=object)"
      ]
     },
     "execution_count": 133,
     "metadata": {},
     "output_type": "execute_result"
    }
   ],
   "source": [
    "df.values"
   ]
  },
  {
   "cell_type": "code",
   "execution_count": 134,
   "metadata": {},
   "outputs": [
    {
     "data": {
      "text/plain": [
       "PassengerId      int64\n",
       "Survived         int64\n",
       "Pclass           int64\n",
       "Name            object\n",
       "Sex             object\n",
       "Age            float64\n",
       "SibSp            int64\n",
       "Parch            int64\n",
       "Ticket          object\n",
       "Fare           float64\n",
       "Cabin           object\n",
       "Embarked        object\n",
       "dtype: object"
      ]
     },
     "execution_count": 134,
     "metadata": {},
     "output_type": "execute_result"
    }
   ],
   "source": [
    "df.dtypes"
   ]
  },
  {
   "cell_type": "code",
   "execution_count": 135,
   "metadata": {},
   "outputs": [
    {
     "data": {
      "text/plain": [
       "PassengerId      0\n",
       "Survived         0\n",
       "Pclass           0\n",
       "Name             0\n",
       "Sex              0\n",
       "Age            177\n",
       "SibSp            0\n",
       "Parch            0\n",
       "Ticket           0\n",
       "Fare             0\n",
       "Cabin          687\n",
       "Embarked         2\n",
       "dtype: int64"
      ]
     },
     "execution_count": 135,
     "metadata": {},
     "output_type": "execute_result"
    }
   ],
   "source": [
    "df.isnull().sum()"
   ]
  },
  {
   "cell_type": "code",
   "execution_count": 136,
   "metadata": {},
   "outputs": [
    {
     "data": {
      "text/plain": [
       "<matplotlib.axes._subplots.AxesSubplot at 0x9e28397a88>"
      ]
     },
     "execution_count": 136,
     "metadata": {},
     "output_type": "execute_result"
    },
    {
     "data": {
      "image/png": "[encoded data removed]",
      "text/plain": [
       "<Figure size 432x288 with 2 Axes>"
      ]
     },
     "metadata": {
      "needs_background": "light"
     },
     "output_type": "display_data"
    }
   ],
   "source": [
    "import seaborn as sns\n",
    "sns.heatmap(df.isnull())  # null values present in 2 columns"
   ]
  },
  {
   "cell_type": "code",
   "execution_count": 137,
   "metadata": {},
   "outputs": [],
   "source": [
    "df['Age'].fillna(df['Age'].median(),inplace=True)"
   ]
  },
  {
   "cell_type": "code",
   "execution_count": 138,
   "metadata": {},
   "outputs": [
    {
     "name": "stdout",
     "output_type": "stream",
     "text": [
      "<class 'pandas.core.frame.DataFrame'>\n",
      "RangeIndex: 891 entries, 0 to 890\n",
      "Data columns (total 12 columns):\n",
      " #   Column       Non-Null Count  Dtype  \n",
      "---  ------       --------------  -----  \n",
      " 0   PassengerId  891 non-null    int64  \n",
      " 1   Survived     891 non-null    int64  \n",
      " 2   Pclass       891 non-null    int64  \n",
      " 3   Name         891 non-null    object \n",
      " 4   Sex          891 non-null    object \n",
      " 5   Age          891 non-null    float64\n",
      " 6   SibSp        891 non-null    int64  \n",
      " 7   Parch        891 non-null    int64  \n",
      " 8   Ticket       891 non-null    object \n",
      " 9   Fare         891 non-null    float64\n",
      " 10  Cabin        204 non-null    object \n",
      " 11  Embarked     889 non-null    object \n",
      "dtypes: float64(2), int64(5), object(5)\n",
      "memory usage: 83.7+ KB\n"
     ]
    }
   ],
   "source": [
    "df.info()"
   ]
  },
  {
   "cell_type": "code",
   "execution_count": 139,
   "metadata": {},
   "outputs": [],
   "source": [
    "df.drop('Cabin',axis=1,inplace=True)    # These columns not impacting the Y variable\n",
    "df.drop('PassengerId',axis=1,inplace=True)"
   ]
  },
  {
   "cell_type": "code",
   "execution_count": 140,
   "metadata": {},
   "outputs": [
    {
     "data": {
      "text/plain": [
       "Survived    0\n",
       "Pclass      0\n",
       "Name        0\n",
       "Sex         0\n",
       "Age         0\n",
       "SibSp       0\n",
       "Parch       0\n",
       "Ticket      0\n",
       "Fare        0\n",
       "Embarked    2\n",
       "dtype: int64"
      ]
     },
     "execution_count": 140,
     "metadata": {},
     "output_type": "execute_result"
    }
   ],
   "source": [
    "df.isnull().sum()"
   ]
  },
  {
   "cell_type": "code",
   "execution_count": 141,
   "metadata": {},
   "outputs": [],
   "source": [
    "df.loc[df['Embarked'].isnull(),'Embarked']='S'"
   ]
  },
  {
   "cell_type": "code",
   "execution_count": 142,
   "metadata": {},
   "outputs": [
    {
     "data": {
      "text/plain": [
       "Survived    0\n",
       "Pclass      0\n",
       "Name        0\n",
       "Sex         0\n",
       "Age         0\n",
       "SibSp       0\n",
       "Parch       0\n",
       "Ticket      0\n",
       "Fare        0\n",
       "Embarked    0\n",
       "dtype: int64"
      ]
     },
     "execution_count": 142,
     "metadata": {},
     "output_type": "execute_result"
    }
   ],
   "source": [
    "df.isnull().sum()    #checking null values present"
   ]
  },
  {
   "cell_type": "code",
   "execution_count": 143,
   "metadata": {},
   "outputs": [
    {
     "data": {
      "text/plain": [
       "<matplotlib.axes._subplots.AxesSubplot at 0x9e28713488>"
      ]
     },
     "execution_count": 143,
     "metadata": {},
     "output_type": "execute_result"
    },
    {
     "data": {
      "image/png": "[encoded data removed]",
      "text/plain": [
       "<Figure size 432x288 with 2 Axes>"
      ]
     },
     "metadata": {
      "needs_background": "light"
     },
     "output_type": "display_data"
    }
   ],
   "source": [
    "import seaborn as sns       # checking null values by heatmap\n",
    "sns.heatmap(df.isnull())"
   ]
  },
  {
   "cell_type": "code",
   "execution_count": 144,
   "metadata": {},
   "outputs": [
    {
     "data": {
      "text/html": [
       "<div>\n",
       "<style scoped>\n",
       "    .dataframe tbody tr th:only-of-type {\n",
       "        vertical-align: middle;\n",
       "    }\n",
       "\n",
       "    .dataframe tbody tr th {\n",
       "        vertical-align: top;\n",
       "    }\n",
       "\n",
       "    .dataframe thead th {\n",
       "        text-align: right;\n",
       "    }\n",
       "</style>\n",
       "<table border=\"1\" class=\"dataframe\">\n",
       "  <thead>\n",
       "    <tr style=\"text-align: right;\">\n",
       "      <th></th>\n",
       "      <th>Survived</th>\n",
       "      <th>Pclass</th>\n",
       "      <th>Age</th>\n",
       "      <th>SibSp</th>\n",
       "      <th>Parch</th>\n",
       "      <th>Fare</th>\n",
       "    </tr>\n",
       "  </thead>\n",
       "  <tbody>\n",
       "    <tr>\n",
       "      <th>count</th>\n",
       "      <td>891.000000</td>\n",
       "      <td>891.000000</td>\n",
       "      <td>891.000000</td>\n",
       "      <td>891.000000</td>\n",
       "      <td>891.000000</td>\n",
       "      <td>891.000000</td>\n",
       "    </tr>\n",
       "    <tr>\n",
       "      <th>mean</th>\n",
       "      <td>0.383838</td>\n",
       "      <td>2.308642</td>\n",
       "      <td>29.361582</td>\n",
       "      <td>0.523008</td>\n",
       "      <td>0.381594</td>\n",
       "      <td>32.204208</td>\n",
       "    </tr>\n",
       "    <tr>\n",
       "      <th>std</th>\n",
       "      <td>0.486592</td>\n",
       "      <td>0.836071</td>\n",
       "      <td>13.019697</td>\n",
       "      <td>1.102743</td>\n",
       "      <td>0.806057</td>\n",
       "      <td>49.693429</td>\n",
       "    </tr>\n",
       "    <tr>\n",
       "      <th>min</th>\n",
       "      <td>0.000000</td>\n",
       "      <td>1.000000</td>\n",
       "      <td>0.420000</td>\n",
       "      <td>0.000000</td>\n",
       "      <td>0.000000</td>\n",
       "      <td>0.000000</td>\n",
       "    </tr>\n",
       "    <tr>\n",
       "      <th>25%</th>\n",
       "      <td>0.000000</td>\n",
       "      <td>2.000000</td>\n",
       "      <td>22.000000</td>\n",
       "      <td>0.000000</td>\n",
       "      <td>0.000000</td>\n",
       "      <td>7.910400</td>\n",
       "    </tr>\n",
       "    <tr>\n",
       "      <th>50%</th>\n",
       "      <td>0.000000</td>\n",
       "      <td>3.000000</td>\n",
       "      <td>28.000000</td>\n",
       "      <td>0.000000</td>\n",
       "      <td>0.000000</td>\n",
       "      <td>14.454200</td>\n",
       "    </tr>\n",
       "    <tr>\n",
       "      <th>75%</th>\n",
       "      <td>1.000000</td>\n",
       "      <td>3.000000</td>\n",
       "      <td>35.000000</td>\n",
       "      <td>1.000000</td>\n",
       "      <td>0.000000</td>\n",
       "      <td>31.000000</td>\n",
       "    </tr>\n",
       "    <tr>\n",
       "      <th>max</th>\n",
       "      <td>1.000000</td>\n",
       "      <td>3.000000</td>\n",
       "      <td>80.000000</td>\n",
       "      <td>8.000000</td>\n",
       "      <td>6.000000</td>\n",
       "      <td>512.329200</td>\n",
       "    </tr>\n",
       "  </tbody>\n",
       "</table>\n",
       "</div>"
      ],
      "text/plain": [
       "         Survived      Pclass         Age       SibSp       Parch        Fare\n",
       "count  891.000000  891.000000  891.000000  891.000000  891.000000  891.000000\n",
       "mean     0.383838    2.308642   29.361582    0.523008    0.381594   32.204208\n",
       "std      0.486592    0.836071   13.019697    1.102743    0.806057   49.693429\n",
       "min      0.000000    1.000000    0.420000    0.000000    0.000000    0.000000\n",
       "25%      0.000000    2.000000   22.000000    0.000000    0.000000    7.910400\n",
       "50%      0.000000    3.000000   28.000000    0.000000    0.000000   14.454200\n",
       "75%      1.000000    3.000000   35.000000    1.000000    0.000000   31.000000\n",
       "max      1.000000    3.000000   80.000000    8.000000    6.000000  512.329200"
      ]
     },
     "execution_count": 144,
     "metadata": {},
     "output_type": "execute_result"
    }
   ],
   "source": [
    "df.describe()   # from below info outliers present in Age and Fare column"
   ]
  },
  {
   "cell_type": "code",
   "execution_count": 145,
   "metadata": {},
   "outputs": [
    {
     "data": {
      "text/plain": [
       "{'whiskers': [<matplotlib.lines.Line2D at 0x9e2880b648>,\n",
       "  <matplotlib.lines.Line2D at 0x9e287facc8>],\n",
       " 'caps': [<matplotlib.lines.Line2D at 0x9e287fadc8>,\n",
       "  <matplotlib.lines.Line2D at 0x9e287fae48>],\n",
       " 'boxes': [<matplotlib.lines.Line2D at 0x9e287fef88>],\n",
       " 'medians': [<matplotlib.lines.Line2D at 0x9e28827d48>],\n",
       " 'fliers': [<matplotlib.lines.Line2D at 0x9e28827e48>],\n",
       " 'means': []}"
      ]
     },
     "execution_count": 145,
     "metadata": {},
     "output_type": "execute_result"
    },
    {
     "data": {
      "image/png": "[encoded data removed]",
      "text/plain": [
       "<Figure size 432x288 with 1 Axes>"
      ]
     },
     "metadata": {
      "needs_background": "light"
     },
     "output_type": "display_data"
    }
   ],
   "source": [
    "import matplotlib.pyplot as plt\n",
    "plt.boxplot(df['Fare'])"
   ]
  },
  {
   "cell_type": "code",
   "execution_count": 146,
   "metadata": {},
   "outputs": [
    {
     "data": {
      "text/plain": [
       "{'whiskers': [<matplotlib.lines.Line2D at 0x9e28994f48>,\n",
       "  <matplotlib.lines.Line2D at 0x9e28994b48>],\n",
       " 'caps': [<matplotlib.lines.Line2D at 0x9e28998c08>,\n",
       "  <matplotlib.lines.Line2D at 0x9e28998d08>],\n",
       " 'boxes': [<matplotlib.lines.Line2D at 0x9e28994908>],\n",
       " 'medians': [<matplotlib.lines.Line2D at 0x9e28998d88>],\n",
       " 'fliers': [<matplotlib.lines.Line2D at 0x9e2899ec48>],\n",
       " 'means': []}"
      ]
     },
     "execution_count": 146,
     "metadata": {},
     "output_type": "execute_result"
    },
    {
     "data": {
      "image/png": "[encoded data removed]",
      "text/plain": [
       "<Figure size 432x288 with 1 Axes>"
      ]
     },
     "metadata": {
      "needs_background": "light"
     },
     "output_type": "display_data"
    }
   ],
   "source": [
    "import matplotlib.pyplot as plt\n",
    "plt.boxplot(df['Fare'])"
   ]
  },
  {
   "cell_type": "code",
   "execution_count": 147,
   "metadata": {},
   "outputs": [
    {
     "data": {
      "text/html": [
       "<div>\n",
       "<style scoped>\n",
       "    .dataframe tbody tr th:only-of-type {\n",
       "        vertical-align: middle;\n",
       "    }\n",
       "\n",
       "    .dataframe tbody tr th {\n",
       "        vertical-align: top;\n",
       "    }\n",
       "\n",
       "    .dataframe thead th {\n",
       "        text-align: right;\n",
       "    }\n",
       "</style>\n",
       "<table border=\"1\" class=\"dataframe\">\n",
       "  <thead>\n",
       "    <tr style=\"text-align: right;\">\n",
       "      <th></th>\n",
       "      <th>Survived</th>\n",
       "      <th>Pclass</th>\n",
       "      <th>Name</th>\n",
       "      <th>Sex</th>\n",
       "      <th>Age</th>\n",
       "      <th>SibSp</th>\n",
       "      <th>Parch</th>\n",
       "      <th>Ticket</th>\n",
       "      <th>Fare</th>\n",
       "      <th>Embarked</th>\n",
       "    </tr>\n",
       "  </thead>\n",
       "  <tbody>\n",
       "    <tr>\n",
       "      <th>0</th>\n",
       "      <td>0</td>\n",
       "      <td>2</td>\n",
       "      <td>108</td>\n",
       "      <td>1</td>\n",
       "      <td>22.0</td>\n",
       "      <td>1</td>\n",
       "      <td>0</td>\n",
       "      <td>523</td>\n",
       "      <td>7.2500</td>\n",
       "      <td>2</td>\n",
       "    </tr>\n",
       "    <tr>\n",
       "      <th>1</th>\n",
       "      <td>1</td>\n",
       "      <td>0</td>\n",
       "      <td>190</td>\n",
       "      <td>0</td>\n",
       "      <td>38.0</td>\n",
       "      <td>1</td>\n",
       "      <td>0</td>\n",
       "      <td>596</td>\n",
       "      <td>71.2833</td>\n",
       "      <td>0</td>\n",
       "    </tr>\n",
       "    <tr>\n",
       "      <th>2</th>\n",
       "      <td>1</td>\n",
       "      <td>2</td>\n",
       "      <td>353</td>\n",
       "      <td>0</td>\n",
       "      <td>26.0</td>\n",
       "      <td>0</td>\n",
       "      <td>0</td>\n",
       "      <td>669</td>\n",
       "      <td>7.9250</td>\n",
       "      <td>2</td>\n",
       "    </tr>\n",
       "    <tr>\n",
       "      <th>3</th>\n",
       "      <td>1</td>\n",
       "      <td>0</td>\n",
       "      <td>272</td>\n",
       "      <td>0</td>\n",
       "      <td>35.0</td>\n",
       "      <td>1</td>\n",
       "      <td>0</td>\n",
       "      <td>49</td>\n",
       "      <td>53.1000</td>\n",
       "      <td>2</td>\n",
       "    </tr>\n",
       "    <tr>\n",
       "      <th>4</th>\n",
       "      <td>0</td>\n",
       "      <td>2</td>\n",
       "      <td>15</td>\n",
       "      <td>1</td>\n",
       "      <td>35.0</td>\n",
       "      <td>0</td>\n",
       "      <td>0</td>\n",
       "      <td>472</td>\n",
       "      <td>8.0500</td>\n",
       "      <td>2</td>\n",
       "    </tr>\n",
       "    <tr>\n",
       "      <th>...</th>\n",
       "      <td>...</td>\n",
       "      <td>...</td>\n",
       "      <td>...</td>\n",
       "      <td>...</td>\n",
       "      <td>...</td>\n",
       "      <td>...</td>\n",
       "      <td>...</td>\n",
       "      <td>...</td>\n",
       "      <td>...</td>\n",
       "      <td>...</td>\n",
       "    </tr>\n",
       "    <tr>\n",
       "      <th>886</th>\n",
       "      <td>0</td>\n",
       "      <td>1</td>\n",
       "      <td>548</td>\n",
       "      <td>1</td>\n",
       "      <td>27.0</td>\n",
       "      <td>0</td>\n",
       "      <td>0</td>\n",
       "      <td>101</td>\n",
       "      <td>13.0000</td>\n",
       "      <td>2</td>\n",
       "    </tr>\n",
       "    <tr>\n",
       "      <th>887</th>\n",
       "      <td>1</td>\n",
       "      <td>0</td>\n",
       "      <td>303</td>\n",
       "      <td>0</td>\n",
       "      <td>19.0</td>\n",
       "      <td>0</td>\n",
       "      <td>0</td>\n",
       "      <td>14</td>\n",
       "      <td>30.0000</td>\n",
       "      <td>2</td>\n",
       "    </tr>\n",
       "    <tr>\n",
       "      <th>888</th>\n",
       "      <td>0</td>\n",
       "      <td>2</td>\n",
       "      <td>413</td>\n",
       "      <td>0</td>\n",
       "      <td>28.0</td>\n",
       "      <td>1</td>\n",
       "      <td>2</td>\n",
       "      <td>675</td>\n",
       "      <td>23.4500</td>\n",
       "      <td>2</td>\n",
       "    </tr>\n",
       "    <tr>\n",
       "      <th>889</th>\n",
       "      <td>1</td>\n",
       "      <td>0</td>\n",
       "      <td>81</td>\n",
       "      <td>1</td>\n",
       "      <td>26.0</td>\n",
       "      <td>0</td>\n",
       "      <td>0</td>\n",
       "      <td>8</td>\n",
       "      <td>30.0000</td>\n",
       "      <td>0</td>\n",
       "    </tr>\n",
       "    <tr>\n",
       "      <th>890</th>\n",
       "      <td>0</td>\n",
       "      <td>2</td>\n",
       "      <td>220</td>\n",
       "      <td>1</td>\n",
       "      <td>32.0</td>\n",
       "      <td>0</td>\n",
       "      <td>0</td>\n",
       "      <td>466</td>\n",
       "      <td>7.7500</td>\n",
       "      <td>1</td>\n",
       "    </tr>\n",
       "  </tbody>\n",
       "</table>\n",
       "<p>891 rows × 10 columns</p>\n",
       "</div>"
      ],
      "text/plain": [
       "     Survived  Pclass  Name  Sex   Age  SibSp  Parch  Ticket     Fare  \\\n",
       "0           0       2   108    1  22.0      1      0     523   7.2500   \n",
       "1           1       0   190    0  38.0      1      0     596  71.2833   \n",
       "2           1       2   353    0  26.0      0      0     669   7.9250   \n",
       "3           1       0   272    0  35.0      1      0      49  53.1000   \n",
       "4           0       2    15    1  35.0      0      0     472   8.0500   \n",
       "..        ...     ...   ...  ...   ...    ...    ...     ...      ...   \n",
       "886         0       1   548    1  27.0      0      0     101  13.0000   \n",
       "887         1       0   303    0  19.0      0      0      14  30.0000   \n",
       "888         0       2   413    0  28.0      1      2     675  23.4500   \n",
       "889         1       0    81    1  26.0      0      0       8  30.0000   \n",
       "890         0       2   220    1  32.0      0      0     466   7.7500   \n",
       "\n",
       "     Embarked  \n",
       "0           2  \n",
       "1           0  \n",
       "2           2  \n",
       "3           2  \n",
       "4           2  \n",
       "..        ...  \n",
       "886         2  \n",
       "887         2  \n",
       "888         2  \n",
       "889         0  \n",
       "890         1  \n",
       "\n",
       "[891 rows x 10 columns]"
      ]
     },
     "execution_count": 147,
     "metadata": {},
     "output_type": "execute_result"
    }
   ],
   "source": [
    "from sklearn.preprocessing import LabelEncoder       # converting string data to numerical\n",
    "le=LabelEncoder()\n",
    "\n",
    "list1=['Pclass','Name','Sex','Ticket','Embarked']\n",
    "for i in list1:\n",
    "    df[i]=le.fit_transform(df[i].astype(str))\n",
    "df\n",
    "    "
   ]
  },
  {
   "cell_type": "code",
   "execution_count": 148,
   "metadata": {},
   "outputs": [],
   "source": [
    "from scipy.stats import zscore\n",
    "import numpy as np"
   ]
  },
  {
   "cell_type": "code",
   "execution_count": 149,
   "metadata": {},
   "outputs": [
    {
     "data": {
      "text/plain": [
       "array([[0.78927234, 0.82737724, 1.31021659, ..., 0.91896631, 0.50244517,\n",
       "        0.58595414],\n",
       "       [1.2669898 , 1.56610693, 0.99141018, ..., 1.28262456, 0.78684529,\n",
       "        1.9423032 ],\n",
       "       [1.2669898 , 0.82737724, 0.35768524, ..., 1.64628282, 0.48885426,\n",
       "        0.58595414],\n",
       "       ...,\n",
       "       [0.78927234, 0.82737724, 0.12441226, ..., 1.67617254, 0.17626324,\n",
       "        0.58595414],\n",
       "       [1.2669898 , 1.56610693, 1.41518943, ..., 1.64656796, 0.04438104,\n",
       "        1.9423032 ],\n",
       "       [0.78927234, 0.82737724, 0.87477369, ..., 0.63501397, 0.49237783,\n",
       "        0.67817453]])"
      ]
     },
     "execution_count": 149,
     "metadata": {},
     "output_type": "execute_result"
    }
   ],
   "source": [
    "z=np.abs(zscore(df))    \n",
    "z"
   ]
  },
  {
   "cell_type": "code",
   "execution_count": 150,
   "metadata": {},
   "outputs": [
    {
     "name": "stdout",
     "output_type": "stream",
     "text": [
      "(array([ 13,  16,  25,  27,  50,  59,  68,  71,  86,  88,  96, 116, 118,\n",
      "       119, 159, 164, 167, 171, 180, 182, 201, 233, 258, 261, 266, 278,\n",
      "       299, 311, 324, 341, 360, 377, 380, 386, 437, 438, 438, 480, 493,\n",
      "       527, 541, 542, 557, 567, 610, 630, 638, 672, 678, 679, 683, 686,\n",
      "       689, 700, 716, 730, 736, 737, 742, 745, 774, 779, 787, 792, 813,\n",
      "       824, 846, 850, 851, 858, 863, 885], dtype=int64), array([6, 5, 6, 8, 5, 5, 5, 5, 6, 8, 4, 4, 8, 5, 5, 5, 6, 5, 5, 5, 5, 5,\n",
      "       8, 5, 5, 5, 8, 8, 5, 8, 6, 8, 8, 5, 6, 6, 8, 5, 4, 8, 5, 5, 8, 6,\n",
      "       6, 4, 6, 4, 6, 8, 5, 5, 8, 8, 8, 8, 6, 8, 8, 4, 6, 8, 5, 5, 5, 5,\n",
      "       5, 5, 4, 6, 5, 6], dtype=int64))\n"
     ]
    }
   ],
   "source": [
    "threshold=3               #Identifying outlirs\n",
    "print(np.where(z>3))"
   ]
  },
  {
   "cell_type": "code",
   "execution_count": 151,
   "metadata": {},
   "outputs": [
    {
     "data": {
      "text/html": [
       "<div>\n",
       "<style scoped>\n",
       "    .dataframe tbody tr th:only-of-type {\n",
       "        vertical-align: middle;\n",
       "    }\n",
       "\n",
       "    .dataframe tbody tr th {\n",
       "        vertical-align: top;\n",
       "    }\n",
       "\n",
       "    .dataframe thead th {\n",
       "        text-align: right;\n",
       "    }\n",
       "</style>\n",
       "<table border=\"1\" class=\"dataframe\">\n",
       "  <thead>\n",
       "    <tr style=\"text-align: right;\">\n",
       "      <th></th>\n",
       "      <th>Survived</th>\n",
       "      <th>Pclass</th>\n",
       "      <th>Name</th>\n",
       "      <th>Sex</th>\n",
       "      <th>Age</th>\n",
       "      <th>SibSp</th>\n",
       "      <th>Parch</th>\n",
       "      <th>Ticket</th>\n",
       "      <th>Fare</th>\n",
       "      <th>Embarked</th>\n",
       "    </tr>\n",
       "  </thead>\n",
       "  <tbody>\n",
       "    <tr>\n",
       "      <th>0</th>\n",
       "      <td>0</td>\n",
       "      <td>2</td>\n",
       "      <td>108</td>\n",
       "      <td>1</td>\n",
       "      <td>22.0</td>\n",
       "      <td>1</td>\n",
       "      <td>0</td>\n",
       "      <td>523</td>\n",
       "      <td>7.2500</td>\n",
       "      <td>2</td>\n",
       "    </tr>\n",
       "    <tr>\n",
       "      <th>1</th>\n",
       "      <td>1</td>\n",
       "      <td>0</td>\n",
       "      <td>190</td>\n",
       "      <td>0</td>\n",
       "      <td>38.0</td>\n",
       "      <td>1</td>\n",
       "      <td>0</td>\n",
       "      <td>596</td>\n",
       "      <td>71.2833</td>\n",
       "      <td>0</td>\n",
       "    </tr>\n",
       "    <tr>\n",
       "      <th>2</th>\n",
       "      <td>1</td>\n",
       "      <td>2</td>\n",
       "      <td>353</td>\n",
       "      <td>0</td>\n",
       "      <td>26.0</td>\n",
       "      <td>0</td>\n",
       "      <td>0</td>\n",
       "      <td>669</td>\n",
       "      <td>7.9250</td>\n",
       "      <td>2</td>\n",
       "    </tr>\n",
       "    <tr>\n",
       "      <th>3</th>\n",
       "      <td>1</td>\n",
       "      <td>0</td>\n",
       "      <td>272</td>\n",
       "      <td>0</td>\n",
       "      <td>35.0</td>\n",
       "      <td>1</td>\n",
       "      <td>0</td>\n",
       "      <td>49</td>\n",
       "      <td>53.1000</td>\n",
       "      <td>2</td>\n",
       "    </tr>\n",
       "    <tr>\n",
       "      <th>4</th>\n",
       "      <td>0</td>\n",
       "      <td>2</td>\n",
       "      <td>15</td>\n",
       "      <td>1</td>\n",
       "      <td>35.0</td>\n",
       "      <td>0</td>\n",
       "      <td>0</td>\n",
       "      <td>472</td>\n",
       "      <td>8.0500</td>\n",
       "      <td>2</td>\n",
       "    </tr>\n",
       "    <tr>\n",
       "      <th>...</th>\n",
       "      <td>...</td>\n",
       "      <td>...</td>\n",
       "      <td>...</td>\n",
       "      <td>...</td>\n",
       "      <td>...</td>\n",
       "      <td>...</td>\n",
       "      <td>...</td>\n",
       "      <td>...</td>\n",
       "      <td>...</td>\n",
       "      <td>...</td>\n",
       "    </tr>\n",
       "    <tr>\n",
       "      <th>886</th>\n",
       "      <td>0</td>\n",
       "      <td>1</td>\n",
       "      <td>548</td>\n",
       "      <td>1</td>\n",
       "      <td>27.0</td>\n",
       "      <td>0</td>\n",
       "      <td>0</td>\n",
       "      <td>101</td>\n",
       "      <td>13.0000</td>\n",
       "      <td>2</td>\n",
       "    </tr>\n",
       "    <tr>\n",
       "      <th>887</th>\n",
       "      <td>1</td>\n",
       "      <td>0</td>\n",
       "      <td>303</td>\n",
       "      <td>0</td>\n",
       "      <td>19.0</td>\n",
       "      <td>0</td>\n",
       "      <td>0</td>\n",
       "      <td>14</td>\n",
       "      <td>30.0000</td>\n",
       "      <td>2</td>\n",
       "    </tr>\n",
       "    <tr>\n",
       "      <th>888</th>\n",
       "      <td>0</td>\n",
       "      <td>2</td>\n",
       "      <td>413</td>\n",
       "      <td>0</td>\n",
       "      <td>28.0</td>\n",
       "      <td>1</td>\n",
       "      <td>2</td>\n",
       "      <td>675</td>\n",
       "      <td>23.4500</td>\n",
       "      <td>2</td>\n",
       "    </tr>\n",
       "    <tr>\n",
       "      <th>889</th>\n",
       "      <td>1</td>\n",
       "      <td>0</td>\n",
       "      <td>81</td>\n",
       "      <td>1</td>\n",
       "      <td>26.0</td>\n",
       "      <td>0</td>\n",
       "      <td>0</td>\n",
       "      <td>8</td>\n",
       "      <td>30.0000</td>\n",
       "      <td>0</td>\n",
       "    </tr>\n",
       "    <tr>\n",
       "      <th>890</th>\n",
       "      <td>0</td>\n",
       "      <td>2</td>\n",
       "      <td>220</td>\n",
       "      <td>1</td>\n",
       "      <td>32.0</td>\n",
       "      <td>0</td>\n",
       "      <td>0</td>\n",
       "      <td>466</td>\n",
       "      <td>7.7500</td>\n",
       "      <td>1</td>\n",
       "    </tr>\n",
       "  </tbody>\n",
       "</table>\n",
       "<p>820 rows × 10 columns</p>\n",
       "</div>"
      ],
      "text/plain": [
       "     Survived  Pclass  Name  Sex   Age  SibSp  Parch  Ticket     Fare  \\\n",
       "0           0       2   108    1  22.0      1      0     523   7.2500   \n",
       "1           1       0   190    0  38.0      1      0     596  71.2833   \n",
       "2           1       2   353    0  26.0      0      0     669   7.9250   \n",
       "3           1       0   272    0  35.0      1      0      49  53.1000   \n",
       "4           0       2    15    1  35.0      0      0     472   8.0500   \n",
       "..        ...     ...   ...  ...   ...    ...    ...     ...      ...   \n",
       "886         0       1   548    1  27.0      0      0     101  13.0000   \n",
       "887         1       0   303    0  19.0      0      0      14  30.0000   \n",
       "888         0       2   413    0  28.0      1      2     675  23.4500   \n",
       "889         1       0    81    1  26.0      0      0       8  30.0000   \n",
       "890         0       2   220    1  32.0      0      0     466   7.7500   \n",
       "\n",
       "     Embarked  \n",
       "0           2  \n",
       "1           0  \n",
       "2           2  \n",
       "3           2  \n",
       "4           2  \n",
       "..        ...  \n",
       "886         2  \n",
       "887         2  \n",
       "888         2  \n",
       "889         0  \n",
       "890         1  \n",
       "\n",
       "[820 rows x 10 columns]"
      ]
     },
     "execution_count": 151,
     "metadata": {},
     "output_type": "execute_result"
    }
   ],
   "source": [
    "df1=df[(z<3).all(axis=1)]   #Removing outliers\n",
    "df1"
   ]
  },
  {
   "cell_type": "code",
   "execution_count": 152,
   "metadata": {},
   "outputs": [
    {
     "data": {
      "text/plain": [
       "28.00    202\n",
       "24.00     30\n",
       "22.00     27\n",
       "18.00     26\n",
       "19.00     25\n",
       "        ... \n",
       "55.50      1\n",
       "70.50      1\n",
       "66.00      1\n",
       "23.50      1\n",
       "0.42       1\n",
       "Name: Age, Length: 88, dtype: int64"
      ]
     },
     "execution_count": 152,
     "metadata": {},
     "output_type": "execute_result"
    }
   ],
   "source": [
    "df['Age'].value_counts()"
   ]
  },
  {
   "cell_type": "code",
   "execution_count": 153,
   "metadata": {},
   "outputs": [
    {
     "data": {
      "text/plain": [
       "8.0500     43\n",
       "13.0000    42\n",
       "7.8958     38\n",
       "7.7500     34\n",
       "26.0000    31\n",
       "           ..\n",
       "8.4583      1\n",
       "9.8375      1\n",
       "8.3625      1\n",
       "14.1083     1\n",
       "17.4000     1\n",
       "Name: Fare, Length: 248, dtype: int64"
      ]
     },
     "execution_count": 153,
     "metadata": {},
     "output_type": "execute_result"
    }
   ],
   "source": [
    "df['Fare'].value_counts()"
   ]
  },
  {
   "cell_type": "code",
   "execution_count": 154,
   "metadata": {},
   "outputs": [
    {
     "data": {
      "image/png": "[encoded data removed]",
      "text/plain": [
       "<Figure size 432x288 with 1 Axes>"
      ]
     },
     "metadata": {
      "needs_background": "light"
     },
     "output_type": "display_data"
    }
   ],
   "source": [
    "import seaborn as sns\n",
    "sns.lineplot(x=df1['Age'],y=df1['Survived'],data=df1)\n",
    "plt.show()"
   ]
  },
  {
   "cell_type": "code",
   "execution_count": 155,
   "metadata": {},
   "outputs": [
    {
     "data": {
      "image/png": "[encoded data removed]",
      "text/plain": [
       "<Figure size 432x288 with 1 Axes>"
      ]
     },
     "metadata": {
      "needs_background": "light"
     },
     "output_type": "display_data"
    }
   ],
   "source": [
    "plt.hist(x=\"Survived\",bins=4,data=df1)\n",
    "plt.show()"
   ]
  },
  {
   "cell_type": "code",
   "execution_count": null,
   "metadata": {},
   "outputs": [],
   "source": []
  },
  {
   "cell_type": "code",
   "execution_count": 156,
   "metadata": {},
   "outputs": [
    {
     "data": {
      "image/png": "[encoded data removed]",
      "text/plain": [
       "<Figure size 432x288 with 1 Axes>"
      ]
     },
     "metadata": {
      "needs_background": "light"
     },
     "output_type": "display_data"
    }
   ],
   "source": [
    "plt.hist(x=\"Age\",bins=5,data=df1)\n",
    "plt.show()"
   ]
  },
  {
   "cell_type": "code",
   "execution_count": 157,
   "metadata": {},
   "outputs": [
    {
     "data": {
      "image/png": "[encoded data removed]",
      "text/plain": [
       "<Figure size 432x288 with 1 Axes>"
      ]
     },
     "metadata": {
      "needs_background": "light"
     },
     "output_type": "display_data"
    }
   ],
   "source": [
    "import seaborn as sns\n",
    "sns.lineplot(x=df1['Pclass'],y=df1['Survived'],data=df1)    # high class having high surviving rate\n",
    "plt.show()"
   ]
  },
  {
   "cell_type": "code",
   "execution_count": 158,
   "metadata": {},
   "outputs": [
    {
     "data": {
      "image/png": "[encoded data removed]",
      "text/plain": [
       "<Figure size 432x288 with 1 Axes>"
      ]
     },
     "metadata": {
      "needs_background": "light"
     },
     "output_type": "display_data"
    }
   ],
   "source": [
    "import seaborn as sns\n",
    "sns.lineplot(x=df1['Fare'],y=df1['Survived'],data=df1)\n",
    "plt.show()"
   ]
  },
  {
   "cell_type": "code",
   "execution_count": 159,
   "metadata": {},
   "outputs": [
    {
     "data": {
      "text/plain": [
       "<matplotlib.axes._subplots.AxesSubplot at 0x9e28bf6308>"
      ]
     },
     "execution_count": 159,
     "metadata": {},
     "output_type": "execute_result"
    },
    {
     "data": {
      "image/png": "[encoded data removed]",
      "text/plain": [
       "<Figure size 432x288 with 2 Axes>"
      ]
     },
     "metadata": {
      "needs_background": "light"
     },
     "output_type": "display_data"
    }
   ],
   "source": [
    "sns.heatmap(df1.corr())   # Highly correlated"
   ]
  },
  {
   "cell_type": "code",
   "execution_count": 160,
   "metadata": {},
   "outputs": [
    {
     "data": {
      "text/plain": [
       "2.318760976737288"
      ]
     },
     "execution_count": 160,
     "metadata": {},
     "output_type": "execute_result"
    }
   ],
   "source": [
    "df1['Fare'].skew()   #checking skewness on basis of max>75%"
   ]
  },
  {
   "cell_type": "code",
   "execution_count": 161,
   "metadata": {},
   "outputs": [
    {
     "data": {
      "text/plain": [
       "2.08500441820235"
      ]
     },
     "execution_count": 161,
     "metadata": {},
     "output_type": "execute_result"
    }
   ],
   "source": [
    "# removig skewness\n",
    "fare_sqrt = np.sqrt(df['Fare'])\n",
    "fare_sqrt.skew()"
   ]
  },
  {
   "cell_type": "code",
   "execution_count": 162,
   "metadata": {},
   "outputs": [],
   "source": [
    "#separating x & y variable"
   ]
  },
  {
   "cell_type": "code",
   "execution_count": 185,
   "metadata": {},
   "outputs": [
    {
     "data": {
      "text/plain": [
       "0      0\n",
       "1      1\n",
       "2      1\n",
       "3      1\n",
       "4      0\n",
       "      ..\n",
       "886    0\n",
       "887    1\n",
       "888    0\n",
       "889    1\n",
       "890    0\n",
       "Name: Survived, Length: 820, dtype: int64"
      ]
     },
     "execution_count": 185,
     "metadata": {},
     "output_type": "execute_result"
    }
   ],
   "source": [
    "y=df1['Survived']\n",
    "y"
   ]
  },
  {
   "cell_type": "code",
   "execution_count": 186,
   "metadata": {},
   "outputs": [
    {
     "data": {
      "text/html": [
       "<div>\n",
       "<style scoped>\n",
       "    .dataframe tbody tr th:only-of-type {\n",
       "        vertical-align: middle;\n",
       "    }\n",
       "\n",
       "    .dataframe tbody tr th {\n",
       "        vertical-align: top;\n",
       "    }\n",
       "\n",
       "    .dataframe thead th {\n",
       "        text-align: right;\n",
       "    }\n",
       "</style>\n",
       "<table border=\"1\" class=\"dataframe\">\n",
       "  <thead>\n",
       "    <tr style=\"text-align: right;\">\n",
       "      <th></th>\n",
       "      <th>Pclass</th>\n",
       "      <th>Name</th>\n",
       "      <th>Sex</th>\n",
       "      <th>Age</th>\n",
       "      <th>SibSp</th>\n",
       "      <th>Parch</th>\n",
       "      <th>Ticket</th>\n",
       "      <th>Fare</th>\n",
       "      <th>Embarked</th>\n",
       "    </tr>\n",
       "  </thead>\n",
       "  <tbody>\n",
       "    <tr>\n",
       "      <th>0</th>\n",
       "      <td>2.0</td>\n",
       "      <td>108</td>\n",
       "      <td>1.0</td>\n",
       "      <td>22.0</td>\n",
       "      <td>1.0</td>\n",
       "      <td>0.0</td>\n",
       "      <td>523</td>\n",
       "      <td>7.2500</td>\n",
       "      <td>2.0</td>\n",
       "    </tr>\n",
       "    <tr>\n",
       "      <th>1</th>\n",
       "      <td>0.0</td>\n",
       "      <td>190</td>\n",
       "      <td>0.0</td>\n",
       "      <td>38.0</td>\n",
       "      <td>1.0</td>\n",
       "      <td>0.0</td>\n",
       "      <td>596</td>\n",
       "      <td>71.2833</td>\n",
       "      <td>0.0</td>\n",
       "    </tr>\n",
       "    <tr>\n",
       "      <th>2</th>\n",
       "      <td>2.0</td>\n",
       "      <td>353</td>\n",
       "      <td>0.0</td>\n",
       "      <td>26.0</td>\n",
       "      <td>0.0</td>\n",
       "      <td>0.0</td>\n",
       "      <td>669</td>\n",
       "      <td>7.9250</td>\n",
       "      <td>2.0</td>\n",
       "    </tr>\n",
       "    <tr>\n",
       "      <th>3</th>\n",
       "      <td>0.0</td>\n",
       "      <td>272</td>\n",
       "      <td>0.0</td>\n",
       "      <td>35.0</td>\n",
       "      <td>1.0</td>\n",
       "      <td>0.0</td>\n",
       "      <td>49</td>\n",
       "      <td>53.1000</td>\n",
       "      <td>2.0</td>\n",
       "    </tr>\n",
       "    <tr>\n",
       "      <th>4</th>\n",
       "      <td>2.0</td>\n",
       "      <td>15</td>\n",
       "      <td>1.0</td>\n",
       "      <td>35.0</td>\n",
       "      <td>0.0</td>\n",
       "      <td>0.0</td>\n",
       "      <td>472</td>\n",
       "      <td>8.0500</td>\n",
       "      <td>2.0</td>\n",
       "    </tr>\n",
       "    <tr>\n",
       "      <th>...</th>\n",
       "      <td>...</td>\n",
       "      <td>...</td>\n",
       "      <td>...</td>\n",
       "      <td>...</td>\n",
       "      <td>...</td>\n",
       "      <td>...</td>\n",
       "      <td>...</td>\n",
       "      <td>...</td>\n",
       "      <td>...</td>\n",
       "    </tr>\n",
       "    <tr>\n",
       "      <th>886</th>\n",
       "      <td>1.0</td>\n",
       "      <td>548</td>\n",
       "      <td>1.0</td>\n",
       "      <td>27.0</td>\n",
       "      <td>0.0</td>\n",
       "      <td>0.0</td>\n",
       "      <td>101</td>\n",
       "      <td>13.0000</td>\n",
       "      <td>2.0</td>\n",
       "    </tr>\n",
       "    <tr>\n",
       "      <th>887</th>\n",
       "      <td>0.0</td>\n",
       "      <td>303</td>\n",
       "      <td>0.0</td>\n",
       "      <td>19.0</td>\n",
       "      <td>0.0</td>\n",
       "      <td>0.0</td>\n",
       "      <td>14</td>\n",
       "      <td>30.0000</td>\n",
       "      <td>2.0</td>\n",
       "    </tr>\n",
       "    <tr>\n",
       "      <th>888</th>\n",
       "      <td>2.0</td>\n",
       "      <td>413</td>\n",
       "      <td>0.0</td>\n",
       "      <td>28.0</td>\n",
       "      <td>1.0</td>\n",
       "      <td>2.0</td>\n",
       "      <td>675</td>\n",
       "      <td>23.4500</td>\n",
       "      <td>2.0</td>\n",
       "    </tr>\n",
       "    <tr>\n",
       "      <th>889</th>\n",
       "      <td>0.0</td>\n",
       "      <td>81</td>\n",
       "      <td>1.0</td>\n",
       "      <td>26.0</td>\n",
       "      <td>0.0</td>\n",
       "      <td>0.0</td>\n",
       "      <td>8</td>\n",
       "      <td>30.0000</td>\n",
       "      <td>0.0</td>\n",
       "    </tr>\n",
       "    <tr>\n",
       "      <th>890</th>\n",
       "      <td>2.0</td>\n",
       "      <td>220</td>\n",
       "      <td>1.0</td>\n",
       "      <td>32.0</td>\n",
       "      <td>0.0</td>\n",
       "      <td>0.0</td>\n",
       "      <td>466</td>\n",
       "      <td>7.7500</td>\n",
       "      <td>1.0</td>\n",
       "    </tr>\n",
       "  </tbody>\n",
       "</table>\n",
       "<p>820 rows × 9 columns</p>\n",
       "</div>"
      ],
      "text/plain": [
       "     Pclass  Name  Sex   Age  SibSp  Parch  Ticket     Fare  Embarked\n",
       "0       2.0   108  1.0  22.0    1.0    0.0     523   7.2500       2.0\n",
       "1       0.0   190  0.0  38.0    1.0    0.0     596  71.2833       0.0\n",
       "2       2.0   353  0.0  26.0    0.0    0.0     669   7.9250       2.0\n",
       "3       0.0   272  0.0  35.0    1.0    0.0      49  53.1000       2.0\n",
       "4       2.0    15  1.0  35.0    0.0    0.0     472   8.0500       2.0\n",
       "..      ...   ...  ...   ...    ...    ...     ...      ...       ...\n",
       "886     1.0   548  1.0  27.0    0.0    0.0     101  13.0000       2.0\n",
       "887     0.0   303  0.0  19.0    0.0    0.0      14  30.0000       2.0\n",
       "888     2.0   413  0.0  28.0    1.0    2.0     675  23.4500       2.0\n",
       "889     0.0    81  1.0  26.0    0.0    0.0       8  30.0000       0.0\n",
       "890     2.0   220  1.0  32.0    0.0    0.0     466   7.7500       1.0\n",
       "\n",
       "[820 rows x 9 columns]"
      ]
     },
     "execution_count": 186,
     "metadata": {},
     "output_type": "execute_result"
    }
   ],
   "source": [
    "x=df1.iloc[:,1:]\n",
    "x"
   ]
  },
  {
   "cell_type": "code",
   "execution_count": 187,
   "metadata": {},
   "outputs": [
    {
     "data": {
      "text/html": [
       "<div>\n",
       "<style scoped>\n",
       "    .dataframe tbody tr th:only-of-type {\n",
       "        vertical-align: middle;\n",
       "    }\n",
       "\n",
       "    .dataframe tbody tr th {\n",
       "        vertical-align: top;\n",
       "    }\n",
       "\n",
       "    .dataframe thead th {\n",
       "        text-align: right;\n",
       "    }\n",
       "</style>\n",
       "<table border=\"1\" class=\"dataframe\">\n",
       "  <thead>\n",
       "    <tr style=\"text-align: right;\">\n",
       "      <th></th>\n",
       "      <th>Survived</th>\n",
       "      <th>Pclass</th>\n",
       "      <th>Name</th>\n",
       "      <th>Sex</th>\n",
       "      <th>Age</th>\n",
       "      <th>SibSp</th>\n",
       "      <th>Parch</th>\n",
       "      <th>Ticket</th>\n",
       "      <th>Fare</th>\n",
       "      <th>Embarked</th>\n",
       "    </tr>\n",
       "  </thead>\n",
       "  <tbody>\n",
       "    <tr>\n",
       "      <th>0</th>\n",
       "      <td>0</td>\n",
       "      <td>2.0</td>\n",
       "      <td>108</td>\n",
       "      <td>1.0</td>\n",
       "      <td>22.0</td>\n",
       "      <td>1.0</td>\n",
       "      <td>0.0</td>\n",
       "      <td>523</td>\n",
       "      <td>7.2500</td>\n",
       "      <td>2.0</td>\n",
       "    </tr>\n",
       "    <tr>\n",
       "      <th>1</th>\n",
       "      <td>1</td>\n",
       "      <td>0.0</td>\n",
       "      <td>190</td>\n",
       "      <td>0.0</td>\n",
       "      <td>38.0</td>\n",
       "      <td>1.0</td>\n",
       "      <td>0.0</td>\n",
       "      <td>596</td>\n",
       "      <td>71.2833</td>\n",
       "      <td>0.0</td>\n",
       "    </tr>\n",
       "    <tr>\n",
       "      <th>2</th>\n",
       "      <td>1</td>\n",
       "      <td>2.0</td>\n",
       "      <td>353</td>\n",
       "      <td>0.0</td>\n",
       "      <td>26.0</td>\n",
       "      <td>0.0</td>\n",
       "      <td>0.0</td>\n",
       "      <td>669</td>\n",
       "      <td>7.9250</td>\n",
       "      <td>2.0</td>\n",
       "    </tr>\n",
       "    <tr>\n",
       "      <th>3</th>\n",
       "      <td>1</td>\n",
       "      <td>0.0</td>\n",
       "      <td>272</td>\n",
       "      <td>0.0</td>\n",
       "      <td>35.0</td>\n",
       "      <td>1.0</td>\n",
       "      <td>0.0</td>\n",
       "      <td>49</td>\n",
       "      <td>53.1000</td>\n",
       "      <td>2.0</td>\n",
       "    </tr>\n",
       "    <tr>\n",
       "      <th>4</th>\n",
       "      <td>0</td>\n",
       "      <td>2.0</td>\n",
       "      <td>15</td>\n",
       "      <td>1.0</td>\n",
       "      <td>35.0</td>\n",
       "      <td>0.0</td>\n",
       "      <td>0.0</td>\n",
       "      <td>472</td>\n",
       "      <td>8.0500</td>\n",
       "      <td>2.0</td>\n",
       "    </tr>\n",
       "    <tr>\n",
       "      <th>...</th>\n",
       "      <td>...</td>\n",
       "      <td>...</td>\n",
       "      <td>...</td>\n",
       "      <td>...</td>\n",
       "      <td>...</td>\n",
       "      <td>...</td>\n",
       "      <td>...</td>\n",
       "      <td>...</td>\n",
       "      <td>...</td>\n",
       "      <td>...</td>\n",
       "    </tr>\n",
       "    <tr>\n",
       "      <th>886</th>\n",
       "      <td>0</td>\n",
       "      <td>1.0</td>\n",
       "      <td>548</td>\n",
       "      <td>1.0</td>\n",
       "      <td>27.0</td>\n",
       "      <td>0.0</td>\n",
       "      <td>0.0</td>\n",
       "      <td>101</td>\n",
       "      <td>13.0000</td>\n",
       "      <td>2.0</td>\n",
       "    </tr>\n",
       "    <tr>\n",
       "      <th>887</th>\n",
       "      <td>1</td>\n",
       "      <td>0.0</td>\n",
       "      <td>303</td>\n",
       "      <td>0.0</td>\n",
       "      <td>19.0</td>\n",
       "      <td>0.0</td>\n",
       "      <td>0.0</td>\n",
       "      <td>14</td>\n",
       "      <td>30.0000</td>\n",
       "      <td>2.0</td>\n",
       "    </tr>\n",
       "    <tr>\n",
       "      <th>888</th>\n",
       "      <td>0</td>\n",
       "      <td>2.0</td>\n",
       "      <td>413</td>\n",
       "      <td>0.0</td>\n",
       "      <td>28.0</td>\n",
       "      <td>1.0</td>\n",
       "      <td>2.0</td>\n",
       "      <td>675</td>\n",
       "      <td>23.4500</td>\n",
       "      <td>2.0</td>\n",
       "    </tr>\n",
       "    <tr>\n",
       "      <th>889</th>\n",
       "      <td>1</td>\n",
       "      <td>0.0</td>\n",
       "      <td>81</td>\n",
       "      <td>1.0</td>\n",
       "      <td>26.0</td>\n",
       "      <td>0.0</td>\n",
       "      <td>0.0</td>\n",
       "      <td>8</td>\n",
       "      <td>30.0000</td>\n",
       "      <td>0.0</td>\n",
       "    </tr>\n",
       "    <tr>\n",
       "      <th>890</th>\n",
       "      <td>0</td>\n",
       "      <td>2.0</td>\n",
       "      <td>220</td>\n",
       "      <td>1.0</td>\n",
       "      <td>32.0</td>\n",
       "      <td>0.0</td>\n",
       "      <td>0.0</td>\n",
       "      <td>466</td>\n",
       "      <td>7.7500</td>\n",
       "      <td>1.0</td>\n",
       "    </tr>\n",
       "  </tbody>\n",
       "</table>\n",
       "<p>820 rows × 10 columns</p>\n",
       "</div>"
      ],
      "text/plain": [
       "     Survived  Pclass  Name  Sex   Age  SibSp  Parch  Ticket     Fare  \\\n",
       "0           0     2.0   108  1.0  22.0    1.0    0.0     523   7.2500   \n",
       "1           1     0.0   190  0.0  38.0    1.0    0.0     596  71.2833   \n",
       "2           1     2.0   353  0.0  26.0    0.0    0.0     669   7.9250   \n",
       "3           1     0.0   272  0.0  35.0    1.0    0.0      49  53.1000   \n",
       "4           0     2.0    15  1.0  35.0    0.0    0.0     472   8.0500   \n",
       "..        ...     ...   ...  ...   ...    ...    ...     ...      ...   \n",
       "886         0     1.0   548  1.0  27.0    0.0    0.0     101  13.0000   \n",
       "887         1     0.0   303  0.0  19.0    0.0    0.0      14  30.0000   \n",
       "888         0     2.0   413  0.0  28.0    1.0    2.0     675  23.4500   \n",
       "889         1     0.0    81  1.0  26.0    0.0    0.0       8  30.0000   \n",
       "890         0     2.0   220  1.0  32.0    0.0    0.0     466   7.7500   \n",
       "\n",
       "     Embarked  \n",
       "0         2.0  \n",
       "1         0.0  \n",
       "2         2.0  \n",
       "3         2.0  \n",
       "4         2.0  \n",
       "..        ...  \n",
       "886       2.0  \n",
       "887       2.0  \n",
       "888       2.0  \n",
       "889       0.0  \n",
       "890       1.0  \n",
       "\n",
       "[820 rows x 10 columns]"
      ]
     },
     "execution_count": 187,
     "metadata": {},
     "output_type": "execute_result"
    }
   ],
   "source": [
    "from sklearn.impute import SimpleImputer\n",
    "import warnings\n",
    "warnings.filterwarnings('ignore')\n",
    "imp = SimpleImputer(strategy=\"mean\")\n",
    "df1['Pclass']=imp.fit_transform(df1['Pclass'].values.reshape(-1,1))\n",
    "df1['Sex']=imp.fit_transform(df1['Sex'].values.reshape(-1,1))\n",
    "df1['Age']=imp.fit_transform(df1['Age'].values.reshape(-1,1))\n",
    "df1['SibSp']=imp.fit_transform(df1['SibSp'].values.reshape(-1,1))\n",
    "df1['Parch']=imp.fit_transform(df1['Parch'].values.reshape(-1,1))\n",
    "df1['Fare']=imp.fit_transform(df1['Fare'].values.reshape(-1,1))\n",
    "df1['Embarked']=imp.fit_transform(df1['Embarked'].values.reshape(-1,1))\n",
    "df1\n"
   ]
  },
  {
   "cell_type": "code",
   "execution_count": 190,
   "metadata": {},
   "outputs": [
    {
     "data": {
      "text/plain": [
       "array([[ 0.8339949 , -1.34499377,  0.72203588, ...,  0.95221543,\n",
       "        -0.62370675,  0.58316179],\n",
       "       [-1.58680446, -1.02227283, -1.38497273, ...,  1.31534895,\n",
       "         1.52510914, -1.95366932],\n",
       "       [ 0.8339949 , -0.38076656, -1.38497273, ...,  1.67848247,\n",
       "        -0.60105524,  0.58316179],\n",
       "       ...,\n",
       "       [ 0.8339949 , -0.14462928, -1.38497273, ...,  1.70832906,\n",
       "        -0.08007059,  0.58316179],\n",
       "       [-1.58680446, -1.45125555,  0.72203588, ..., -1.60961692,\n",
       "         0.13973292, -1.95366932],\n",
       "       [ 0.8339949 , -0.90420419,  0.72203588, ...,  0.66867282,\n",
       "        -0.60692786, -0.68525377]])"
      ]
     },
     "execution_count": 190,
     "metadata": {},
     "output_type": "execute_result"
    }
   ],
   "source": [
    "from sklearn.preprocessing import StandardScaler\n",
    "sc=StandardScaler()\n",
    "x=sc.fit_transform(x)\n",
    "x"
   ]
  },
  {
   "cell_type": "code",
   "execution_count": 193,
   "metadata": {},
   "outputs": [
    {
     "data": {
      "text/plain": [
       "(820, 9)"
      ]
     },
     "execution_count": 193,
     "metadata": {},
     "output_type": "execute_result"
    }
   ],
   "source": [
    "x.shape"
   ]
  },
  {
   "cell_type": "code",
   "execution_count": 194,
   "metadata": {},
   "outputs": [
    {
     "data": {
      "text/plain": [
       "(820,)"
      ]
     },
     "execution_count": 194,
     "metadata": {},
     "output_type": "execute_result"
    }
   ],
   "source": [
    "y.shape"
   ]
  },
  {
   "cell_type": "code",
   "execution_count": 201,
   "metadata": {},
   "outputs": [],
   "source": [
    "from sklearn.model_selection import train_test_split\n",
    "from sklearn.linear_model import LogisticRegression\n",
    "from sklearn.metrics import accuracy_score,confusion_matrix,classification_report\n",
    "from sklearn.svm import SVC\n",
    "from sklearn.naive_bayes import GaussianNB\n",
    "from sklearn.tree import DecisionTreeClassifier\n",
    "from sklearn.neighbors import KNeighborsClassifier\n",
    "from sklearn.metrics import r2_score\n",
    "import warnings\n",
    "warnings.filterwarnings('ignore')"
   ]
  },
  {
   "cell_type": "code",
   "execution_count": 192,
   "metadata": {},
   "outputs": [
    {
     "name": "stdout",
     "output_type": "stream",
     "text": [
      "r2_score corresponding to random state: 42 is:  0.2748397435897437\n",
      "r2_score corresponding to random state: 43 is:  0.2697813638729829\n",
      "r2_score corresponding to random state: 44 is:  0.18025362318840565\n",
      "r2_score corresponding to random state: 45 is:  0.07630072193179005\n",
      "r2_score corresponding to random state: 46 is:  0.3261355174981384\n",
      "r2_score corresponding to random state: 47 is:  0.22882205513784448\n",
      "r2_score corresponding to random state: 48 is:  0.2968671679197994\n",
      "r2_score corresponding to random state: 49 is:  0.2850407747196738\n",
      "r2_score corresponding to random state: 50 is:  0.2968671679197994\n",
      "r2_score corresponding to random state: 51 is:  -0.046946462200699646\n",
      "r2_score corresponding to random state: 52 is:  0.09590409590409599\n",
      "r2_score corresponding to random state: 53 is:  0.1656850192061462\n",
      "r2_score corresponding to random state: 54 is:  0.15420560747663548\n",
      "r2_score corresponding to random state: 55 is:  -0.010147133434804445\n",
      "r2_score corresponding to random state: 56 is:  0.32445302445302426\n",
      "r2_score corresponding to random state: 57 is:  0.07479149852031197\n",
      "r2_score corresponding to random state: 58 is:  0.23836633663366324\n",
      "r2_score corresponding to random state: 59 is:  0.2583866837387965\n",
      "r2_score corresponding to random state: 60 is:  0.10848699166456166\n",
      "r2_score corresponding to random state: 61 is:  0.19278797145769622\n",
      "r2_score corresponding to random state: 62 is:  -0.10080227743271242\n",
      "r2_score corresponding to random state: 63 is:  0.3038461538461539\n",
      "r2_score corresponding to random state: 64 is:  -0.22943396226415103\n",
      "r2_score corresponding to random state: 65 is:  0.07747196738022433\n",
      "r2_score corresponding to random state: 66 is:  0.25583554376657824\n",
      "r2_score corresponding to random state: 67 is:  -0.024967824967824903\n",
      "r2_score corresponding to random state: 68 is:  -0.08924455825864253\n",
      "r2_score corresponding to random state: 69 is:  0.04377358490566041\n",
      "r2_score corresponding to random state: 70 is:  0.021006289308176163\n",
      "r2_score corresponding to random state: 71 is:  0.08656832298136641\n",
      "r2_score corresponding to random state: 72 is:  0.3038461538461539\n",
      "r2_score corresponding to random state: 73 is:  0.08382716049382721\n",
      "r2_score corresponding to random state: 74 is:  0.11480051480051479\n",
      "r2_score corresponding to random state: 75 is:  0.18886043533930852\n",
      "r2_score corresponding to random state: 76 is:  0.13809523809523816\n",
      "r2_score corresponding to random state: 77 is:  0.29391982781813286\n",
      "r2_score corresponding to random state: 78 is:  0.256534727408514\n",
      "r2_score corresponding to random state: 79 is:  0.3279129321382842\n",
      "r2_score corresponding to random state: 80 is:  -0.10710567412805827\n",
      "r2_score corresponding to random state: 81 is:  0.1438884739855616\n",
      "r2_score corresponding to random state: 82 is:  0.04980793854033294\n",
      "r2_score corresponding to random state: 83 is:  0.010928961748633781\n",
      "r2_score corresponding to random state: 84 is:  0.0959040959040961\n",
      "r2_score corresponding to random state: 85 is:  0.371042471042471\n",
      "r2_score corresponding to random state: 86 is:  0.10848699166456166\n",
      "r2_score corresponding to random state: 87 is:  0.22278353119474614\n",
      "r2_score corresponding to random state: 88 is:  0.1235983690112129\n",
      "r2_score corresponding to random state: 89 is:  0.11180371352785146\n",
      "r2_score corresponding to random state: 90 is:  0.10489328474752735\n",
      "r2_score corresponding to random state: 91 is:  0.20367494824016552\n",
      "r2_score corresponding to random state: 92 is:  0.1345628415300547\n",
      "r2_score corresponding to random state: 93 is:  0.1991150442477876\n",
      "r2_score corresponding to random state: 94 is:  0.3503712871287127\n",
      "r2_score corresponding to random state: 95 is:  0.11933418693982067\n",
      "r2_score corresponding to random state: 96 is:  0.024686716791979646\n",
      "r2_score corresponding to random state: 97 is:  -0.0016731016731015291\n",
      "r2_score corresponding to random state: 98 is:  -0.07129405434490188\n",
      "r2_score corresponding to random state: 99 is:  0.046113306982872526\n",
      "r2_score corresponding to random state: 100 is:  0.12760020294266905\n",
      "\n",
      "max r2 score corresponding to  85 is 0.371042471042471\n",
      "0.7900552486187845\n",
      "[[87 21]\n",
      " [17 56]]\n",
      "              precision    recall  f1-score   support\n",
      "\n",
      "           0       0.84      0.81      0.82       108\n",
      "           1       0.73      0.77      0.75        73\n",
      "\n",
      "    accuracy                           0.79       181\n",
      "   macro avg       0.78      0.79      0.78       181\n",
      "weighted avg       0.79      0.79      0.79       181\n",
      "\n"
     ]
    }
   ],
   "source": [
    "max_r_score=0\n",
    "for r_state in range(42,101):\n",
    "    x_train,x_test,y_train,y_test=train_test_split(x,y,random_state=r_state,test_size=0.22)\n",
    "    lg=LogisticRegression()\n",
    "    lg.fit(x_train,y_train)\n",
    "    y_predlg=lg.predict(x_test)\n",
    "    r2_scr=r2_score(y_test,y_predlg)\n",
    "    print(\"r2_score corresponding to random state:\",r_state, \"is: \",r2_scr)\n",
    "    if r2_scr>max_r_score:\n",
    "        max_r_score=r2_scr\n",
    "        final_r_state=r_state\n",
    "        \n",
    "print()\n",
    "\n",
    "print(\"max r2 score corresponding to \",final_r_state, \"is\" , max_r_score)   \n",
    "print(accuracy_score(y_test,y_predlg))\n",
    "print(confusion_matrix(y_test,y_predlg))\n",
    "print(classification_report(y_test,y_predlg))"
   ]
  },
  {
   "cell_type": "code",
   "execution_count": 195,
   "metadata": {},
   "outputs": [
    {
     "name": "stdout",
     "output_type": "stream",
     "text": [
      "r2_score corresponding to random state: 42 is:  0.05729166666666685\n",
      "r2_score corresponding to random state: 43 is:  0.3404476834981781\n",
      "r2_score corresponding to random state: 44 is:  0.20367494824016552\n",
      "r2_score corresponding to random state: 45 is:  -0.12646253422952425\n",
      "r2_score corresponding to random state: 46 is:  0.056589724497393856\n",
      "r2_score corresponding to random state: 47 is:  0.3649122807017543\n",
      "r2_score corresponding to random state: 48 is:  0.024686716791979757\n",
      "r2_score corresponding to random state: 49 is:  0.14666156982670753\n",
      "r2_score corresponding to random state: 50 is:  -0.04335839598997526\n",
      "r2_score corresponding to random state: 51 is:  -0.07129405434490188\n",
      "r2_score corresponding to random state: 52 is:  0.005494505494505586\n",
      "r2_score corresponding to random state: 53 is:  -0.11241997439180507\n",
      "r2_score corresponding to random state: 54 is:  -0.07438747158373338\n",
      "r2_score corresponding to random state: 55 is:  -0.010147133434804445\n",
      "r2_score corresponding to random state: 56 is:  0.06821106821106804\n",
      "r2_score corresponding to random state: 57 is:  0.07479149852031197\n",
      "r2_score corresponding to random state: 58 is:  0.05915841584158399\n",
      "r2_score corresponding to random state: 59 is:  0.18886043533930863\n",
      "r2_score corresponding to random state: 60 is:  0.01704976004041414\n",
      "r2_score corresponding to random state: 61 is:  0.07747196738022433\n",
      "r2_score corresponding to random state: 62 is:  -0.007116977225673171\n",
      "r2_score corresponding to random state: 63 is:  -0.20026525198938994\n",
      "r2_score corresponding to random state: 64 is:  -0.024528301886792336\n",
      "r2_score corresponding to random state: 65 is:  0.21585117227319062\n",
      "r2_score corresponding to random state: 66 is:  0.1598143236074271\n",
      "r2_score corresponding to random state: 67 is:  0.09150579150579163\n",
      "r2_score corresponding to random state: 68 is:  -0.01971830985915468\n",
      "r2_score corresponding to random state: 69 is:  0.24867924528301888\n",
      "r2_score corresponding to random state: 70 is:  0.18037735849056602\n",
      "r2_score corresponding to random state: 71 is:  0.039725672877846785\n",
      "r2_score corresponding to random state: 72 is:  0.0157824933687003\n",
      "r2_score corresponding to random state: 73 is:  0.06148148148148147\n",
      "r2_score corresponding to random state: 74 is:  0.18468468468468457\n",
      "r2_score corresponding to random state: 75 is:  0.07298335467349537\n",
      "r2_score corresponding to random state: 76 is:  0.23127413127413132\n",
      "r2_score corresponding to random state: 77 is:  0.09913909066451432\n",
      "r2_score corresponding to random state: 78 is:  0.07630072193179005\n",
      "r2_score corresponding to random state: 79 is:  0.3279129321382842\n",
      "r2_score corresponding to random state: 80 is:  0.08133784487246232\n",
      "r2_score corresponding to random state: 81 is:  0.008712969878018617\n",
      "r2_score corresponding to random state: 82 is:  0.0034571062740077485\n",
      "r2_score corresponding to random state: 83 is:  0.1345628415300546\n",
      "r2_score corresponding to random state: 84 is:  0.07330169830169853\n",
      "r2_score corresponding to random state: 85 is:  0.044916344916344886\n",
      "r2_score corresponding to random state: 86 is:  0.13134629957059862\n",
      "r2_score corresponding to random state: 87 is:  0.08562768375852481\n",
      "r2_score corresponding to random state: 88 is:  0.0774719673802241\n",
      "r2_score corresponding to random state: 89 is:  0.13580901856763927\n",
      "r2_score corresponding to random state: 90 is:  -0.059994794377927985\n",
      "r2_score corresponding to random state: 91 is:  0.10998964803312616\n",
      "r2_score corresponding to random state: 92 is:  -0.01379781420765025\n",
      "r2_score corresponding to random state: 93 is:  0.010671525247267\n",
      "r2_score corresponding to random state: 94 is:  0.05915841584158399\n",
      "r2_score corresponding to random state: 95 is:  0.09615877080665802\n",
      "r2_score corresponding to random state: 96 is:  0.024686716791979646\n",
      "r2_score corresponding to random state: 97 is:  0.13809523809523816\n",
      "r2_score corresponding to random state: 98 is:  -0.3147699757869251\n",
      "r2_score corresponding to random state: 99 is:  0.21304347826086978\n",
      "r2_score corresponding to random state: 100 is:  0.08168442415017796\n",
      "\n",
      "max r2 score corresponding to  47 is 0.3649122807017543\n",
      "0.7790055248618785\n",
      "[[84 24]\n",
      " [16 57]]\n",
      "              precision    recall  f1-score   support\n",
      "\n",
      "           0       0.84      0.78      0.81       108\n",
      "           1       0.70      0.78      0.74        73\n",
      "\n",
      "    accuracy                           0.78       181\n",
      "   macro avg       0.77      0.78      0.77       181\n",
      "weighted avg       0.79      0.78      0.78       181\n",
      "\n"
     ]
    }
   ],
   "source": [
    "max_r_score=0\n",
    "for r_state in range(42,101):\n",
    "    x_train,x_test,y_train,y_test=train_test_split(x,y,random_state=r_state,test_size=0.22)\n",
    "    dtc=DecisionTreeClassifier()\n",
    "    dtc.fit(x_train,y_train)\n",
    "    y_preddtc=dtc.predict(x_test)\n",
    "    r2_scr=r2_score(y_test,y_preddtc)\n",
    "    print(\"r2_score corresponding to random state:\",r_state, \"is: \",r2_scr)\n",
    "    if r2_scr>max_r_score:\n",
    "        max_r_score=r2_scr\n",
    "        final_r_state=r_state\n",
    "        \n",
    "print()\n",
    "\n",
    "print(\"max r2 score corresponding to \",final_r_state, \"is\" , max_r_score)   \n",
    "print(accuracy_score(y_test,y_preddtc))\n",
    "print(confusion_matrix(y_test,y_preddtc))\n",
    "print(classification_report(y_test,y_preddtc))"
   ]
  },
  {
   "cell_type": "code",
   "execution_count": 196,
   "metadata": {},
   "outputs": [
    {
     "name": "stdout",
     "output_type": "stream",
     "text": [
      "r2_score corresponding to random state: 42 is:  0.2748397435897437\n",
      "r2_score corresponding to random state: 43 is:  0.4111140031233733\n",
      "r2_score corresponding to random state: 44 is:  0.22709627329192528\n",
      "r2_score corresponding to random state: 45 is:  0.18894697535474247\n",
      "r2_score corresponding to random state: 46 is:  0.34859766691486715\n",
      "r2_score corresponding to random state: 47 is:  0.34223057644110266\n",
      "r2_score corresponding to random state: 48 is:  0.41027568922305757\n",
      "r2_score corresponding to random state: 49 is:  0.3311671763506626\n",
      "r2_score corresponding to random state: 50 is:  0.16077694235588957\n",
      "r2_score corresponding to random state: 51 is:  0.07479149852031197\n",
      "r2_score corresponding to random state: 52 is:  0.32192807192807193\n",
      "r2_score corresponding to random state: 53 is:  0.1656850192061462\n",
      "r2_score corresponding to random state: 54 is:  0.22278353119474614\n",
      "r2_score corresponding to random state: 55 is:  0.1046423135464234\n",
      "r2_score corresponding to random state: 56 is:  0.39433719433719416\n",
      "r2_score corresponding to random state: 57 is:  0.2695722356739305\n",
      "r2_score corresponding to random state: 58 is:  0.3951732673267325\n",
      "r2_score corresponding to random state: 59 is:  0.3279129321382843\n",
      "r2_score corresponding to random state: 60 is:  0.13134629957059862\n",
      "r2_score corresponding to random state: 61 is:  0.21585117227319062\n",
      "r2_score corresponding to random state: 62 is:  0.10998964803312616\n",
      "r2_score corresponding to random state: 63 is:  0.44787798408488066\n",
      "r2_score corresponding to random state: 64 is:  -0.001761006289308087\n",
      "r2_score corresponding to random state: 65 is:  0.2619775739041794\n",
      "r2_score corresponding to random state: 66 is:  0.44787798408488066\n",
      "r2_score corresponding to random state: 67 is:  0.20797940797940806\n",
      "r2_score corresponding to random state: 68 is:  0.2120358514724714\n",
      "r2_score corresponding to random state: 69 is:  0.24867924528301888\n",
      "r2_score corresponding to random state: 70 is:  0.15761006289308177\n",
      "r2_score corresponding to random state: 71 is:  0.13341097308488614\n",
      "r2_score corresponding to random state: 72 is:  0.42387267904509285\n",
      "r2_score corresponding to random state: 73 is:  0.21790123456790123\n",
      "r2_score corresponding to random state: 74 is:  0.2312741312741312\n",
      "r2_score corresponding to random state: 75 is:  0.25838668373879636\n",
      "r2_score corresponding to random state: 76 is:  0.3244530244530245\n",
      "r2_score corresponding to random state: 77 is:  0.34261501210653744\n",
      "r2_score corresponding to random state: 78 is:  0.3917102315160569\n",
      "r2_score corresponding to random state: 79 is:  0.4206145966709346\n",
      "r2_score corresponding to random state: 80 is:  0.08133784487246232\n",
      "r2_score corresponding to random state: 81 is:  0.1438884739855616\n",
      "r2_score corresponding to random state: 82 is:  0.18886043533930863\n",
      "r2_score corresponding to random state: 83 is:  0.15928961748633874\n",
      "r2_score corresponding to random state: 84 is:  0.20891608391608407\n",
      "r2_score corresponding to random state: 85 is:  0.3943371943371943\n",
      "r2_score corresponding to random state: 86 is:  0.22278353119474614\n",
      "r2_score corresponding to random state: 87 is:  0.17706491538267233\n",
      "r2_score corresponding to random state: 88 is:  0.2619775739041793\n",
      "r2_score corresponding to random state: 89 is:  0.3038461538461539\n",
      "r2_score corresponding to random state: 90 is:  0.31689224362311297\n",
      "r2_score corresponding to random state: 91 is:  0.18025362318840565\n",
      "r2_score corresponding to random state: 92 is:  0.15928961748633885\n",
      "r2_score corresponding to random state: 93 is:  0.38755856324830806\n",
      "r2_score corresponding to random state: 94 is:  0.4847772277227722\n",
      "r2_score corresponding to random state: 95 is:  0.35108834827144675\n",
      "r2_score corresponding to random state: 96 is:  0.251503759398496\n",
      "r2_score corresponding to random state: 97 is:  0.20797940797940806\n",
      "r2_score corresponding to random state: 98 is:  -0.09564164648910412\n",
      "r2_score corresponding to random state: 99 is:  0.3561264822134389\n",
      "r2_score corresponding to random state: 100 is:  0.21943176052765123\n",
      "\n",
      "max r2 score corresponding to  94 is 0.4847772277227722\n",
      "0.8121546961325967\n",
      "[[88 20]\n",
      " [14 59]]\n",
      "              precision    recall  f1-score   support\n",
      "\n",
      "           0       0.86      0.81      0.84       108\n",
      "           1       0.75      0.81      0.78        73\n",
      "\n",
      "    accuracy                           0.81       181\n",
      "   macro avg       0.80      0.81      0.81       181\n",
      "weighted avg       0.82      0.81      0.81       181\n",
      "\n"
     ]
    }
   ],
   "source": [
    "max_r_score=0\n",
    "for r_state in range(42,101):\n",
    "    x_train,x_test,y_train,y_test=train_test_split(x,y,random_state=r_state,test_size=0.22)\n",
    "    svc=SVC()\n",
    "    svc.fit(x_train,y_train)\n",
    "    y_predsvc=svc.predict(x_test)\n",
    "    r2_scr=r2_score(y_test,y_predsvc)\n",
    "    print(\"r2_score corresponding to random state:\",r_state, \"is: \",r2_scr)\n",
    "    if r2_scr>max_r_score:\n",
    "        max_r_score=r2_scr\n",
    "        final_r_state=r_state\n",
    "        \n",
    "print()\n",
    "\n",
    "print(\"max r2 score corresponding to \",final_r_state, \"is\" , max_r_score)   \n",
    "print(accuracy_score(y_test,y_predsvc))\n",
    "print(confusion_matrix(y_test,y_predsvc))\n",
    "print(classification_report(y_test,y_predsvc))"
   ]
  },
  {
   "cell_type": "code",
   "execution_count": 197,
   "metadata": {},
   "outputs": [
    {
     "name": "stdout",
     "output_type": "stream",
     "text": [
      "r2_score corresponding to random state: 42 is:  -1.2479967948717943\n",
      "r2_score corresponding to random state: 43 is:  -0.8608797501301404\n",
      "r2_score corresponding to random state: 44 is:  -1.2952898550724643\n",
      "r2_score corresponding to random state: 45 is:  -1.050161812297734\n",
      "r2_score corresponding to random state: 46 is:  -0.9317448498386698\n",
      "r2_score corresponding to random state: 47 is:  -1.0640350877192986\n",
      "r2_score corresponding to random state: 48 is:  -0.7918546365914791\n",
      "r2_score corresponding to random state: 49 is:  -1.237130479102956\n",
      "r2_score corresponding to random state: 50 is:  -1.0640350877192986\n",
      "r2_score corresponding to random state: 51 is:  -1.0938929244013993\n",
      "r2_score corresponding to random state: 52 is:  -1.1246253746253743\n",
      "r2_score corresponding to random state: 53 is:  -1.0394366197183094\n",
      "r2_score corresponding to random state: 54 is:  -0.8973225562010609\n",
      "r2_score corresponding to random state: 55 is:  -1.0662100456621002\n",
      "r2_score corresponding to random state: 56 is:  -1.2129987129987136\n",
      "r2_score corresponding to random state: 57 is:  -1.3373688458434225\n",
      "r2_score corresponding to random state: 58 is:  -0.9936881188118816\n",
      "r2_score corresponding to random state: 59 is:  -1.0394366197183098\n",
      "r2_score corresponding to random state: 60 is:  -1.080197019449356\n",
      "r2_score corresponding to random state: 61 is:  -1.3755096839959222\n",
      "r2_score corresponding to random state: 62 is:  -0.9673913043478264\n",
      "r2_score corresponding to random state: 63 is:  -1.0644562334217507\n",
      "r2_score corresponding to random state: 64 is:  -0.8213836477987422\n",
      "r2_score corresponding to random state: 65 is:  -0.9603720693170235\n",
      "r2_score corresponding to random state: 66 is:  -1.3045092838196286\n",
      "r2_score corresponding to random state: 67 is:  -0.8402831402831401\n",
      "r2_score corresponding to random state: 68 is:  -1.0394366197183094\n",
      "r2_score corresponding to random state: 69 is:  -0.639245283018868\n",
      "r2_score corresponding to random state: 70 is:  -1.2311949685534591\n",
      "r2_score corresponding to random state: 71 is:  -1.1547619047619047\n",
      "r2_score corresponding to random state: 72 is:  -1.3045092838196286\n",
      "r2_score corresponding to random state: 73 is:  -1.0558024691358026\n",
      "r2_score corresponding to random state: 74 is:  -0.8868725868725871\n",
      "r2_score corresponding to random state: 75 is:  -0.9467349551856596\n",
      "r2_score corresponding to random state: 76 is:  -1.1198198198198197\n",
      "r2_score corresponding to random state: 77 is:  -1.1912832929782082\n",
      "r2_score corresponding to random state: 78 is:  -0.9600448095593723\n",
      "r2_score corresponding to random state: 79 is:  -0.993085787451985\n",
      "r2_score corresponding to random state: 80 is:  -1.049323269130661\n",
      "r2_score corresponding to random state: 81 is:  -1.3655713218820011\n",
      "r2_score corresponding to random state: 82 is:  -0.9930857874519845\n",
      "r2_score corresponding to random state: 83 is:  -1.0770491803278688\n",
      "r2_score corresponding to random state: 84 is:  -1.079420579420579\n",
      "r2_score corresponding to random state: 85 is:  -0.8402831402831403\n",
      "r2_score corresponding to random state: 86 is:  -1.308790098509725\n",
      "r2_score corresponding to random state: 87 is:  -1.2630714826976512\n",
      "r2_score corresponding to random state: 88 is:  -1.1910040774719675\n",
      "r2_score corresponding to random state: 89 is:  -1.3045092838196286\n",
      "r2_score corresponding to random state: 90 is:  -0.9079906298802705\n",
      "r2_score corresponding to random state: 91 is:  -1.342132505175984\n",
      "r2_score corresponding to random state: 92 is:  -1.274863387978142\n",
      "r2_score corresponding to random state: 93 is:  -1.1906559083810517\n",
      "r2_score corresponding to random state: 94 is:  -1.0384900990099015\n",
      "r2_score corresponding to random state: 95 is:  -0.8540332906530093\n",
      "r2_score corresponding to random state: 96 is:  -1.064035087719299\n",
      "r2_score corresponding to random state: 97 is:  -1.1198198198198197\n",
      "r2_score corresponding to random state: 98 is:  -1.2399784772666131\n",
      "r2_score corresponding to random state: 99 is:  -0.8839262187088268\n",
      "r2_score corresponding to random state: 100 is:  0.21943176052765123\n",
      "\n",
      "max r2 score corresponding to  100 is 0.21943176052765123\n",
      "0.8011049723756906\n",
      "[[91 17]\n",
      " [19 54]]\n",
      "              precision    recall  f1-score   support\n",
      "\n",
      "           0       0.83      0.84      0.83       108\n",
      "           1       0.76      0.74      0.75        73\n",
      "\n",
      "    accuracy                           0.80       181\n",
      "   macro avg       0.79      0.79      0.79       181\n",
      "weighted avg       0.80      0.80      0.80       181\n",
      "\n"
     ]
    }
   ],
   "source": [
    "max_r_score=0\n",
    "for r_state in range(42,101):\n",
    "    x_train,x_test,y_train,y_test=train_test_split(x,y,random_state=r_state,test_size=0.22)\n",
    "    knn=KNeighborsClassifier()\n",
    "    knn.fit(x_train,y_train)\n",
    "    y_predknn=knn.predict(x_test)\n",
    "    r2_scr=r2_score(y_test,y_predsvc)\n",
    "    print(\"r2_score corresponding to random state:\",r_state, \"is: \",r2_scr)\n",
    "    if r2_scr>max_r_score:\n",
    "        max_r_score=r2_scr\n",
    "        final_r_state=r_state\n",
    "        \n",
    "print()\n",
    "\n",
    "print(\"max r2 score corresponding to \",final_r_state, \"is\" , max_r_score)   \n",
    "print(accuracy_score(y_test,y_predknn))\n",
    "print(confusion_matrix(y_test,y_predknn))\n",
    "print(classification_report(y_test,y_predknn))"
   ]
  },
  {
   "cell_type": "code",
   "execution_count": 198,
   "metadata": {},
   "outputs": [],
   "source": [
    "from sklearn.ensemble import RandomForestClassifier"
   ]
  },
  {
   "cell_type": "code",
   "execution_count": 199,
   "metadata": {},
   "outputs": [
    {
     "name": "stdout",
     "output_type": "stream",
     "text": [
      "r2_score corresponding to random state: 42 is:  -1.2479967948717943\n",
      "r2_score corresponding to random state: 43 is:  -0.8608797501301404\n",
      "r2_score corresponding to random state: 44 is:  -1.2952898550724643\n",
      "r2_score corresponding to random state: 45 is:  -1.050161812297734\n",
      "r2_score corresponding to random state: 46 is:  -0.9317448498386698\n",
      "r2_score corresponding to random state: 47 is:  -1.0640350877192986\n",
      "r2_score corresponding to random state: 48 is:  -0.7918546365914791\n",
      "r2_score corresponding to random state: 49 is:  -1.237130479102956\n",
      "r2_score corresponding to random state: 50 is:  -1.0640350877192986\n",
      "r2_score corresponding to random state: 51 is:  -1.0938929244013993\n",
      "r2_score corresponding to random state: 52 is:  -1.1246253746253743\n",
      "r2_score corresponding to random state: 53 is:  -1.0394366197183094\n",
      "r2_score corresponding to random state: 54 is:  -0.8973225562010609\n",
      "r2_score corresponding to random state: 55 is:  -1.0662100456621002\n",
      "r2_score corresponding to random state: 56 is:  -1.2129987129987136\n",
      "r2_score corresponding to random state: 57 is:  -1.3373688458434225\n",
      "r2_score corresponding to random state: 58 is:  -0.9936881188118816\n",
      "r2_score corresponding to random state: 59 is:  -1.0394366197183098\n",
      "r2_score corresponding to random state: 60 is:  -1.080197019449356\n",
      "r2_score corresponding to random state: 61 is:  -1.3755096839959222\n",
      "r2_score corresponding to random state: 62 is:  -0.9673913043478264\n",
      "r2_score corresponding to random state: 63 is:  -1.0644562334217507\n",
      "r2_score corresponding to random state: 64 is:  -0.8213836477987422\n",
      "r2_score corresponding to random state: 65 is:  -0.9603720693170235\n",
      "r2_score corresponding to random state: 66 is:  -1.3045092838196286\n",
      "r2_score corresponding to random state: 67 is:  -0.8402831402831401\n",
      "r2_score corresponding to random state: 68 is:  -1.0394366197183094\n",
      "r2_score corresponding to random state: 69 is:  -0.639245283018868\n",
      "r2_score corresponding to random state: 70 is:  -1.2311949685534591\n",
      "r2_score corresponding to random state: 71 is:  -1.1547619047619047\n",
      "r2_score corresponding to random state: 72 is:  -1.3045092838196286\n",
      "r2_score corresponding to random state: 73 is:  -1.0558024691358026\n",
      "r2_score corresponding to random state: 74 is:  -0.8868725868725871\n",
      "r2_score corresponding to random state: 75 is:  -0.9467349551856596\n",
      "r2_score corresponding to random state: 76 is:  -1.1198198198198197\n",
      "r2_score corresponding to random state: 77 is:  -1.1912832929782082\n",
      "r2_score corresponding to random state: 78 is:  -0.9600448095593723\n",
      "r2_score corresponding to random state: 79 is:  -0.993085787451985\n",
      "r2_score corresponding to random state: 80 is:  -1.049323269130661\n",
      "r2_score corresponding to random state: 81 is:  -1.3655713218820011\n",
      "r2_score corresponding to random state: 82 is:  -0.9930857874519845\n",
      "r2_score corresponding to random state: 83 is:  -1.0770491803278688\n",
      "r2_score corresponding to random state: 84 is:  -1.079420579420579\n",
      "r2_score corresponding to random state: 85 is:  -0.8402831402831403\n",
      "r2_score corresponding to random state: 86 is:  -1.308790098509725\n",
      "r2_score corresponding to random state: 87 is:  -1.2630714826976512\n",
      "r2_score corresponding to random state: 88 is:  -1.1910040774719675\n",
      "r2_score corresponding to random state: 89 is:  -1.3045092838196286\n",
      "r2_score corresponding to random state: 90 is:  -0.9079906298802705\n",
      "r2_score corresponding to random state: 91 is:  -1.342132505175984\n",
      "r2_score corresponding to random state: 92 is:  -1.274863387978142\n",
      "r2_score corresponding to random state: 93 is:  -1.1906559083810517\n",
      "r2_score corresponding to random state: 94 is:  -1.0384900990099015\n",
      "r2_score corresponding to random state: 95 is:  -0.8540332906530093\n",
      "r2_score corresponding to random state: 96 is:  -1.064035087719299\n",
      "r2_score corresponding to random state: 97 is:  -1.1198198198198197\n",
      "r2_score corresponding to random state: 98 is:  -1.2399784772666131\n",
      "r2_score corresponding to random state: 99 is:  -0.8839262187088268\n",
      "r2_score corresponding to random state: 100 is:  0.21943176052765123\n",
      "\n",
      "max r2 score corresponding to  100 is 0.21943176052765123\n",
      "0.8397790055248618\n",
      "[[93 15]\n",
      " [14 59]]\n",
      "              precision    recall  f1-score   support\n",
      "\n",
      "           0       0.87      0.86      0.87       108\n",
      "           1       0.80      0.81      0.80        73\n",
      "\n",
      "    accuracy                           0.84       181\n",
      "   macro avg       0.83      0.83      0.83       181\n",
      "weighted avg       0.84      0.84      0.84       181\n",
      "\n"
     ]
    }
   ],
   "source": [
    "max_r_score=0\n",
    "for r_state in range(42,101):\n",
    "    x_train,x_test,y_train,y_test=train_test_split(x,y,random_state=r_state,test_size=0.22)\n",
    "    rf=RandomForestClassifier(n_estimators=100)\n",
    "    rf.fit(x_train,y_train)\n",
    "    y_predrf=rf.predict(x_test)\n",
    "    r2_scr=r2_score(y_test,y_predsvc)\n",
    "    print(\"r2_score corresponding to random state:\",r_state, \"is: \",r2_scr)\n",
    "    if r2_scr>max_r_score:\n",
    "        max_r_score=r2_scr\n",
    "        final_r_state=r_state\n",
    "        \n",
    "print()\n",
    "\n",
    "print(\"max r2 score corresponding to \",final_r_state, \"is\" , max_r_score)   \n",
    "print(accuracy_score(y_test,y_predrf))\n",
    "print(confusion_matrix(y_test,y_predrf))\n",
    "print(classification_report(y_test,y_predrf))"
   ]
  },
  {
   "cell_type": "code",
   "execution_count": 209,
   "metadata": {},
   "outputs": [
    {
     "name": "stdout",
     "output_type": "stream",
     "text": [
      "r2_score corresponding to random state: 42 is:  0.2748397435897437\n",
      "r2_score corresponding to random state: 43 is:  0.3404476834981781\n",
      "r2_score corresponding to random state: 44 is:  0.06314699792960643\n",
      "r2_score corresponding to random state: 45 is:  0.03124222056260917\n",
      "r2_score corresponding to random state: 46 is:  0.03412757508066511\n",
      "r2_score corresponding to random state: 47 is:  0.27418546365914775\n",
      "r2_score corresponding to random state: 48 is:  -0.11140350877193006\n",
      "r2_score corresponding to random state: 49 is:  0.12359836901121313\n",
      "r2_score corresponding to random state: 50 is:  0.2515037593984961\n",
      "r2_score corresponding to random state: 51 is:  -0.16868442292171126\n",
      "r2_score corresponding to random state: 52 is:  -0.017107892107891987\n",
      "r2_score corresponding to random state: 53 is:  -0.08924455825864253\n",
      "r2_score corresponding to random state: 54 is:  0.06276837585248796\n",
      "r2_score corresponding to random state: 55 is:  -0.1938102486047688\n",
      "r2_score corresponding to random state: 56 is:  0.20797940797940784\n",
      "r2_score corresponding to random state: 57 is:  0.050443906376109626\n",
      "r2_score corresponding to random state: 58 is:  0.23836633663366324\n",
      "r2_score corresponding to random state: 59 is:  0.14250960307298344\n",
      "r2_score corresponding to random state: 60 is:  0.08562768375852481\n",
      "r2_score corresponding to random state: 61 is:  -0.08397043832823647\n",
      "r2_score corresponding to random state: 62 is:  -0.26475155279503126\n",
      "r2_score corresponding to random state: 63 is:  0.06379310344827582\n",
      "r2_score corresponding to random state: 64 is:  -0.1838993710691823\n",
      "r2_score corresponding to random state: 65 is:  0.07747196738022433\n",
      "r2_score corresponding to random state: 66 is:  -0.05623342175066304\n",
      "r2_score corresponding to random state: 67 is:  -0.04826254826254828\n",
      "r2_score corresponding to random state: 68 is:  -0.20512163892445545\n",
      "r2_score corresponding to random state: 69 is:  -0.07006289308176106\n",
      "r2_score corresponding to random state: 70 is:  0.021006289308176163\n",
      "r2_score corresponding to random state: 71 is:  -0.030538302277432816\n",
      "r2_score corresponding to random state: 72 is:  0.1838196286472148\n",
      "r2_score corresponding to random state: 73 is:  -0.02790123456790128\n",
      "r2_score corresponding to random state: 74 is:  0.044916344916344886\n",
      "r2_score corresponding to random state: 75 is:  0.11933418693982067\n",
      "r2_score corresponding to random state: 76 is:  -0.1647361647361647\n",
      "r2_score corresponding to random state: 77 is:  0.12348668280871666\n",
      "r2_score corresponding to random state: 78 is:  -0.058874782175752705\n",
      "r2_score corresponding to random state: 79 is:  0.07298335467349537\n",
      "r2_score corresponding to random state: 80 is:  -0.012883914627797921\n",
      "r2_score corresponding to random state: 81 is:  -0.10393328354493381\n",
      "r2_score corresponding to random state: 82 is:  0.0034571062740077485\n",
      "r2_score corresponding to random state: 83 is:  0.10983606557377046\n",
      "r2_score corresponding to random state: 84 is:  0.02809690309690338\n",
      "r2_score corresponding to random state: 85 is:  0.27786357786357785\n",
      "r2_score corresponding to random state: 86 is:  -0.02866885577165945\n",
      "r2_score corresponding to random state: 87 is:  0.17706491538267233\n",
      "r2_score corresponding to random state: 88 is:  0.2389143730886849\n",
      "r2_score corresponding to random state: 89 is:  0.13580901856763927\n",
      "r2_score corresponding to random state: 90 is:  0.24622592399791776\n",
      "r2_score corresponding to random state: 91 is:  0.016304347826086807\n",
      "r2_score corresponding to random state: 92 is:  -0.03852459016393439\n",
      "r2_score corresponding to random state: 93 is:  0.010671525247267\n",
      "r2_score corresponding to random state: 94 is:  0.14876237623762356\n",
      "r2_score corresponding to random state: 95 is:  0.07298335467349537\n",
      "r2_score corresponding to random state: 96 is:  -0.020676691729323737\n",
      "r2_score corresponding to random state: 97 is:  -0.0016731016731015291\n",
      "r2_score corresponding to random state: 98 is:  -0.16868442292171126\n",
      "r2_score corresponding to random state: 99 is:  -0.0015810276679839586\n",
      "\n",
      "max r2 score corresponding to  43 is 0.3404476834981781\n",
      "0.5248618784530387\n",
      "[[68 47]\n",
      " [39 27]]\n",
      "              precision    recall  f1-score   support\n",
      "\n",
      "           0       0.64      0.59      0.61       115\n",
      "           1       0.36      0.41      0.39        66\n",
      "\n",
      "    accuracy                           0.52       181\n",
      "   macro avg       0.50      0.50      0.50       181\n",
      "weighted avg       0.54      0.52      0.53       181\n",
      "\n"
     ]
    }
   ],
   "source": [
    "max_r_score=0\n",
    "for r_state in range(42,100):\n",
    "    x_train,x_test,y_train,y_test=train_test_split(x,y,test_size=0.22,random_state=r_state)\n",
    "    gnb=GaussianNB()\n",
    "    gnb.fit(x_train,y_train)\n",
    "    y_predgnb=gnb.predict(x_test)\n",
    "    r2_scr=r2_score(y_test,y_predgnb)\n",
    "    print(\"r2_score corresponding to random state:\",r_state, \"is: \",r2_scr)\n",
    "    if r2_scr>max_r_score:\n",
    "        max_r_score=r2_scr\n",
    "        final_r_state=r_state\n",
    "print()\n",
    "\n",
    "print(\"max r2 score corresponding to \",final_r_state, \"is\" , max_r_score)\n",
    "print(accuracy_score(y_test,y_predrf))\n",
    "print(confusion_matrix(y_test,y_predrf))\n",
    "print(classification_report(y_test,y_predrf))       "
   ]
  },
  {
   "cell_type": "code",
   "execution_count": 203,
   "metadata": {},
   "outputs": [
    {
     "name": "stdout",
     "output_type": "stream",
     "text": [
      "Scores: [0.765625   0.765625   0.875      0.828125   0.828125   0.8125\n",
      " 0.828125   0.78125    0.84375    0.84126984]\n",
      "Mean: 0.8169394841269841\n",
      "Standard Deviation: 0.03408363492727034\n"
     ]
    }
   ],
   "source": [
    "from sklearn.model_selection import cross_val_score\n",
    "rf=RandomForestClassifier(n_estimators=100)\n",
    "scores = cross_val_score(rf,x_train,y_train,cv=10,scoring=\"accuracy\")\n",
    "print(\"Scores:\",scores)\n",
    "print(\"Mean:\",scores.mean())\n",
    "print(\"Standard Deviation:\",scores.std())"
   ]
  },
  {
   "cell_type": "code",
   "execution_count": 208,
   "metadata": {},
   "outputs": [
    {
     "name": "stdout",
     "output_type": "stream",
     "text": [
      "{'criterion': 'entropy'}\n"
     ]
    }
   ],
   "source": [
    "from sklearn.model_selection import GridSearchCV\n",
    "rf=RandomForestClassifier(n_estimators=100)\n",
    "param= {\"criterion\" : [\"gini\",\"entropy\"]}\n",
    "clf= GridSearchCV(estimator=rf,param_grid=param)\n",
    "clf.fit(x_train,y_train)\n",
    "print(clf.best_params_)"
   ]
  },
  {
   "cell_type": "code",
   "execution_count": 211,
   "metadata": {},
   "outputs": [
    {
     "data": {
      "text/plain": [
       "['rfTitanic.obj']"
      ]
     },
     "execution_count": 211,
     "metadata": {},
     "output_type": "execute_result"
    }
   ],
   "source": [
    "from sklearn.externals import joblib\n",
    "joblib.dump(rf,'rfTitanic.obj')"
   ]
  },
  {
   "cell_type": "code",
   "execution_count": null,
   "metadata": {},
   "outputs": [],
   "source": [
    "# CONCLUSION :  The Predicting rate is almost 83% for Random Forest i.e survival rate 83% in cases."
   ]
  },
  {
   "cell_type": "code",
   "execution_count": null,
   "metadata": {},
   "outputs": [],
   "source": []
  },
  {
   "cell_type": "code",
   "execution_count": null,
   "metadata": {},
   "outputs": [],
   "source": []
  },
  {
   "cell_type": "code",
   "execution_count": null,
   "metadata": {},
   "outputs": [],
   "source": []
  },
  {
   "cell_type": "code",
   "execution_count": null,
   "metadata": {},
   "outputs": [],
   "source": []
  },
  {
   "cell_type": "code",
   "execution_count": null,
   "metadata": {},
   "outputs": [],
   "source": []
  },
  {
   "cell_type": "code",
   "execution_count": null,
   "metadata": {},
   "outputs": [],
   "source": []
  },
  {
   "cell_type": "code",
   "execution_count": null,
   "metadata": {},
   "outputs": [],
   "source": []
  },
  {
   "cell_type": "code",
   "execution_count": null,
   "metadata": {},
   "outputs": [],
   "source": []
  },
  {
   "cell_type": "code",
   "execution_count": null,
   "metadata": {},
   "outputs": [],
   "source": []
  },
  {
   "cell_type": "code",
   "execution_count": null,
   "metadata": {},
   "outputs": [],
   "source": []
  },
  {
   "cell_type": "code",
   "execution_count": null,
   "metadata": {},
   "outputs": [],
   "source": []
  },
  {
   "cell_type": "code",
   "execution_count": null,
   "metadata": {},
   "outputs": [],
   "source": []
  },
  {
   "cell_type": "code",
   "execution_count": null,
   "metadata": {},
   "outputs": [],
   "source": []
  },
  {
   "cell_type": "code",
   "execution_count": null,
   "metadata": {},
   "outputs": [],
   "source": []
  },
  {
   "cell_type": "code",
   "execution_count": null,
   "metadata": {},
   "outputs": [],
   "source": []
  },
  {
   "cell_type": "code",
   "execution_count": null,
   "metadata": {},
   "outputs": [],
   "source": []
  },
  {
   "cell_type": "code",
   "execution_count": null,
   "metadata": {},
   "outputs": [],
   "source": []
  },
  {
   "cell_type": "code",
   "execution_count": null,
   "metadata": {},
   "outputs": [],
   "source": [
    "\n"
   ]
  },
  {
   "cell_type": "code",
   "execution_count": null,
   "metadata": {},
   "outputs": [],
   "source": []
  },
  {
   "cell_type": "code",
   "execution_count": null,
   "metadata": {},
   "outputs": [],
   "source": []
  },
  {
   "cell_type": "code",
   "execution_count": null,
   "metadata": {},
   "outputs": [],
   "source": []
  },
  {
   "cell_type": "code",
   "execution_count": null,
   "metadata": {},
   "outputs": [],
   "source": []
  },
  {
   "cell_type": "code",
   "execution_count": null,
   "metadata": {},
   "outputs": [],
   "source": []
  },
  {
   "cell_type": "code",
   "execution_count": null,
   "metadata": {},
   "outputs": [],
   "source": []
  },
  {
   "cell_type": "code",
   "execution_count": null,
   "metadata": {},
   "outputs": [],
   "source": []
  },
  {
   "cell_type": "code",
   "execution_count": null,
   "metadata": {},
   "outputs": [],
   "source": []
  },
  {
   "cell_type": "code",
   "execution_count": null,
   "metadata": {},
   "outputs": [],
   "source": []
  },
  {
   "cell_type": "code",
   "execution_count": null,
   "metadata": {},
   "outputs": [],
   "source": []
  },
  {
   "cell_type": "code",
   "execution_count": null,
   "metadata": {},
   "outputs": [],
   "source": []
  },
  {
   "cell_type": "code",
   "execution_count": null,
   "metadata": {},
   "outputs": [],
   "source": []
  },
  {
   "cell_type": "code",
   "execution_count": null,
   "metadata": {},
   "outputs": [],
   "source": []
  },
  {
   "cell_type": "code",
   "execution_count": null,
   "metadata": {},
   "outputs": [],
   "source": []
  },
  {
   "cell_type": "code",
   "execution_count": null,
   "metadata": {},
   "outputs": [],
   "source": []
  },
  {
   "cell_type": "code",
   "execution_count": null,
   "metadata": {},
   "outputs": [],
   "source": []
  },
  {
   "cell_type": "code",
   "execution_count": null,
   "metadata": {},
   "outputs": [],
   "source": []
  },
  {
   "cell_type": "code",
   "execution_count": null,
   "metadata": {},
   "outputs": [],
   "source": []
  },
  {
   "cell_type": "code",
   "execution_count": null,
   "metadata": {},
   "outputs": [],
   "source": []
  },
  {
   "cell_type": "code",
   "execution_count": null,
   "metadata": {},
   "outputs": [],
   "source": []
  },
  {
   "cell_type": "code",
   "execution_count": null,
   "metadata": {},
   "outputs": [],
   "source": []
  },
  {
   "cell_type": "code",
   "execution_count": null,
   "metadata": {},
   "outputs": [],
   "source": []
  },
  {
   "cell_type": "code",
   "execution_count": null,
   "metadata": {},
   "outputs": [],
   "source": []
  },
  {
   "cell_type": "code",
   "execution_count": null,
   "metadata": {},
   "outputs": [],
   "source": []
  },
  {
   "cell_type": "code",
   "execution_count": null,
   "metadata": {},
   "outputs": [],
   "source": []
  },
  {
   "cell_type": "code",
   "execution_count": null,
   "metadata": {},
   "outputs": [],
   "source": []
  },
  {
   "cell_type": "code",
   "execution_count": null,
   "metadata": {},
   "outputs": [],
   "source": []
  },
  {
   "cell_type": "code",
   "execution_count": null,
   "metadata": {},
   "outputs": [],
   "source": []
  },
  {
   "cell_type": "code",
   "execution_count": null,
   "metadata": {},
   "outputs": [],
   "source": []
  },
  {
   "cell_type": "code",
   "execution_count": null,
   "metadata": {},
   "outputs": [],
   "source": []
  },
  {
   "cell_type": "code",
   "execution_count": null,
   "metadata": {},
   "outputs": [],
   "source": []
  },
  {
   "cell_type": "code",
   "execution_count": null,
   "metadata": {},
   "outputs": [],
   "source": []
  },
  {
   "cell_type": "code",
   "execution_count": null,
   "metadata": {},
   "outputs": [],
   "source": []
  },
  {
   "cell_type": "code",
   "execution_count": null,
   "metadata": {},
   "outputs": [],
   "source": []
  },
  {
   "cell_type": "code",
   "execution_count": null,
   "metadata": {},
   "outputs": [],
   "source": []
  },
  {
   "cell_type": "code",
   "execution_count": null,
   "metadata": {},
   "outputs": [],
   "source": []
  },
  {
   "cell_type": "code",
   "execution_count": null,
   "metadata": {},
   "outputs": [],
   "source": []
  },
  {
   "cell_type": "code",
   "execution_count": null,
   "metadata": {},
   "outputs": [],
   "source": []
  },
  {
   "cell_type": "code",
   "execution_count": null,
   "metadata": {},
   "outputs": [],
   "source": []
  },
  {
   "cell_type": "code",
   "execution_count": null,
   "metadata": {},
   "outputs": [],
   "source": []
  },
  {
   "cell_type": "code",
   "execution_count": null,
   "metadata": {},
   "outputs": [],
   "source": []
  },
  {
   "cell_type": "code",
   "execution_count": null,
   "metadata": {},
   "outputs": [],
   "source": []
  },
  {
   "cell_type": "code",
   "execution_count": null,
   "metadata": {},
   "outputs": [],
   "source": []
  }
 ],
 "metadata": {
  "kernelspec": {
   "display_name": "Python 3",
   "language": "python",
   "name": "python3"
  },
  "language_info": {
   "codemirror_mode": {
    "name": "ipython",
    "version": 3
   },
   "file_extension": ".py",
   "mimetype": "text/x-python",
   "name": "python",
   "nbconvert_exporter": "python",
   "pygments_lexer": "ipython3",
   "version": "3.7.6"
  }
 },
 "nbformat": 4,
 "nbformat_minor": 4
}
